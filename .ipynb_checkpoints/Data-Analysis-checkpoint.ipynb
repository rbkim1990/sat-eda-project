{
 "cells": [
  {
   "cell_type": "markdown",
   "metadata": {},
   "source": [
    "# Project 1: SAT & ACT Analysis"
   ]
  },
  {
   "cell_type": "markdown",
   "metadata": {},
   "source": [
    "## Problem Statement"
   ]
  },
  {
   "cell_type": "markdown",
   "metadata": {},
   "source": [
    "_Standardized college tests are the key for high school seniors need to have in order to access the world of college. Evaluating students across different locations, demographics, and societies through a standardized test is one of the ways that colleges can get an objective idea of how prepared a student is to succeed in college._ "
   ]
  },
  {
   "cell_type": "markdown",
   "metadata": {},
   "source": [
    "_There are two main standardized college entrance exams: the **SAT** (Scholastic Aptitude Test) and the **ACT** (American College Testing). We will be comparing various facets of both tests to discover any interesting patterns, as well as focus in on **expanding the SAT participation rate in Alaska.**_"
   ]
  },
  {
   "cell_type": "markdown",
   "metadata": {},
   "source": [
    "## Executive Summary\n",
    "### Contents:\n",
    "- [2017 Data Import & Cleaning](#Data-Import-and-Cleaning)\n",
    "- [2018 Data Import and Cleaning](#2018-Data-Import-and-Cleaning)\n",
    "- [Exploratory Data Analysis](#Exploratory-Data-Analysis)\n",
    "- [Data Visualization](#Visualize-the-data)\n",
    "- [Descriptive and Inferential Statistics](#Descriptive-and-Inferential-Statistics)\n",
    "- [Outside Research](#Outside-Research)\n",
    "- [Conclusions and Recommendations](#Conclusions-and-Recommendations)"
   ]
  },
  {
   "cell_type": "code",
   "execution_count": 1,
   "metadata": {},
   "outputs": [],
   "source": [
    "# Library and function imports:\n",
    "import numpy as np\n",
    "import pandas as pd\n",
    "import seaborn as sns\n",
    "import matplotlib.pyplot as plt\n",
    "%matplotlib inline"
   ]
  },
  {
   "cell_type": "markdown",
   "metadata": {},
   "source": [
    "## Importing and Cleaning Data"
   ]
  },
  {
   "cell_type": "code",
   "execution_count": 2,
   "metadata": {},
   "outputs": [],
   "source": [
    "# Loaded the 2017 ACT and SAT data in Pandas DataFrames\n",
    "# This data was manually crafted from information on the SAT and ACT website.\n",
    "sat = pd.read_csv('./data/sat_2017.csv');\n",
    "act = pd.read_csv('./data/act_2017.csv');"
   ]
  },
  {
   "cell_type": "code",
   "execution_count": 3,
   "metadata": {},
   "outputs": [
    {
     "data": {
      "text/html": [
       "<div>\n",
       "<style scoped>\n",
       "    .dataframe tbody tr th:only-of-type {\n",
       "        vertical-align: middle;\n",
       "    }\n",
       "\n",
       "    .dataframe tbody tr th {\n",
       "        vertical-align: top;\n",
       "    }\n",
       "\n",
       "    .dataframe thead th {\n",
       "        text-align: right;\n",
       "    }\n",
       "</style>\n",
       "<table border=\"1\" class=\"dataframe\">\n",
       "  <thead>\n",
       "    <tr style=\"text-align: right;\">\n",
       "      <th></th>\n",
       "      <th>State</th>\n",
       "      <th>Participation</th>\n",
       "      <th>Evidence-Based Reading and Writing</th>\n",
       "      <th>Math</th>\n",
       "      <th>Total</th>\n",
       "    </tr>\n",
       "  </thead>\n",
       "  <tbody>\n",
       "    <tr>\n",
       "      <th>0</th>\n",
       "      <td>Alabama</td>\n",
       "      <td>5%</td>\n",
       "      <td>593</td>\n",
       "      <td>572</td>\n",
       "      <td>1165</td>\n",
       "    </tr>\n",
       "    <tr>\n",
       "      <th>1</th>\n",
       "      <td>Alaska</td>\n",
       "      <td>38%</td>\n",
       "      <td>547</td>\n",
       "      <td>533</td>\n",
       "      <td>1080</td>\n",
       "    </tr>\n",
       "    <tr>\n",
       "      <th>2</th>\n",
       "      <td>Arizona</td>\n",
       "      <td>30%</td>\n",
       "      <td>563</td>\n",
       "      <td>553</td>\n",
       "      <td>1116</td>\n",
       "    </tr>\n",
       "    <tr>\n",
       "      <th>3</th>\n",
       "      <td>Arkansas</td>\n",
       "      <td>3%</td>\n",
       "      <td>614</td>\n",
       "      <td>594</td>\n",
       "      <td>1208</td>\n",
       "    </tr>\n",
       "    <tr>\n",
       "      <th>4</th>\n",
       "      <td>California</td>\n",
       "      <td>53%</td>\n",
       "      <td>531</td>\n",
       "      <td>524</td>\n",
       "      <td>1055</td>\n",
       "    </tr>\n",
       "  </tbody>\n",
       "</table>\n",
       "</div>"
      ],
      "text/plain": [
       "        State Participation  Evidence-Based Reading and Writing  Math  Total\n",
       "0     Alabama            5%                                 593   572   1165\n",
       "1      Alaska           38%                                 547   533   1080\n",
       "2     Arizona           30%                                 563   553   1116\n",
       "3    Arkansas            3%                                 614   594   1208\n",
       "4  California           53%                                 531   524   1055"
      ]
     },
     "execution_count": 3,
     "metadata": {},
     "output_type": "execute_result"
    }
   ],
   "source": [
    "# Taking a preliminary look at the data\n",
    "sat.head()"
   ]
  },
  {
   "cell_type": "code",
   "execution_count": 4,
   "metadata": {},
   "outputs": [
    {
     "data": {
      "text/html": [
       "<div>\n",
       "<style scoped>\n",
       "    .dataframe tbody tr th:only-of-type {\n",
       "        vertical-align: middle;\n",
       "    }\n",
       "\n",
       "    .dataframe tbody tr th {\n",
       "        vertical-align: top;\n",
       "    }\n",
       "\n",
       "    .dataframe thead th {\n",
       "        text-align: right;\n",
       "    }\n",
       "</style>\n",
       "<table border=\"1\" class=\"dataframe\">\n",
       "  <thead>\n",
       "    <tr style=\"text-align: right;\">\n",
       "      <th></th>\n",
       "      <th>State</th>\n",
       "      <th>Participation</th>\n",
       "      <th>English</th>\n",
       "      <th>Math</th>\n",
       "      <th>Reading</th>\n",
       "      <th>Science</th>\n",
       "      <th>Composite</th>\n",
       "    </tr>\n",
       "  </thead>\n",
       "  <tbody>\n",
       "    <tr>\n",
       "      <th>0</th>\n",
       "      <td>Alabama</td>\n",
       "      <td>100%</td>\n",
       "      <td>18.9</td>\n",
       "      <td>18.4</td>\n",
       "      <td>19.7</td>\n",
       "      <td>19.4</td>\n",
       "      <td>19.2</td>\n",
       "    </tr>\n",
       "    <tr>\n",
       "      <th>1</th>\n",
       "      <td>Alaska</td>\n",
       "      <td>65%</td>\n",
       "      <td>18.7</td>\n",
       "      <td>19.8</td>\n",
       "      <td>20.4</td>\n",
       "      <td>19.9</td>\n",
       "      <td>19.8</td>\n",
       "    </tr>\n",
       "    <tr>\n",
       "      <th>2</th>\n",
       "      <td>Arizona</td>\n",
       "      <td>62%</td>\n",
       "      <td>18.6</td>\n",
       "      <td>19.8</td>\n",
       "      <td>20.1</td>\n",
       "      <td>19.8</td>\n",
       "      <td>19.7</td>\n",
       "    </tr>\n",
       "    <tr>\n",
       "      <th>3</th>\n",
       "      <td>Arkansas</td>\n",
       "      <td>100%</td>\n",
       "      <td>18.9</td>\n",
       "      <td>19.0</td>\n",
       "      <td>19.7</td>\n",
       "      <td>19.5</td>\n",
       "      <td>19.4</td>\n",
       "    </tr>\n",
       "    <tr>\n",
       "      <th>4</th>\n",
       "      <td>California</td>\n",
       "      <td>31%</td>\n",
       "      <td>22.5</td>\n",
       "      <td>22.7</td>\n",
       "      <td>23.1</td>\n",
       "      <td>22.2</td>\n",
       "      <td>22.8</td>\n",
       "    </tr>\n",
       "  </tbody>\n",
       "</table>\n",
       "</div>"
      ],
      "text/plain": [
       "        State Participation  English  Math  Reading  Science Composite\n",
       "0     Alabama          100%     18.9  18.4     19.7     19.4      19.2\n",
       "1      Alaska           65%     18.7  19.8     20.4     19.9      19.8\n",
       "2     Arizona           62%     18.6  19.8     20.1     19.8      19.7\n",
       "3    Arkansas          100%     18.9  19.0     19.7     19.5      19.4\n",
       "4  California           31%     22.5  22.7     23.1     22.2      22.8"
      ]
     },
     "execution_count": 4,
     "metadata": {},
     "output_type": "execute_result"
    }
   ],
   "source": [
    "act.head()"
   ]
  },
  {
   "cell_type": "markdown",
   "metadata": {},
   "source": [
    "### Initial Impressions of the Data\n",
    "*Both sets of data report the subscore and total score averages for every state for their respective test. Included in both data sets is participation rate per state. ACT has a score range from 1 to 36 and the SAT has a score range from 400 to 1600. All data is within appropriate bounds (but closer inspection on the dataset reveals types with Maryland's 2017 SAT Math score and 2017 ACT Science score).*"
   ]
  },
  {
   "cell_type": "code",
   "execution_count": 5,
   "metadata": {},
   "outputs": [],
   "source": [
    "# Used .loc() to correct Maryland's SAT Math value\n",
    "sat.loc[20,'Math'] = 524\n",
    "\n",
    "# Used .loc() to correct Maryland's ACT Science value\n",
    "act.loc[20, 'Science'] = 23.2"
   ]
  },
  {
   "cell_type": "code",
   "execution_count": 6,
   "metadata": {},
   "outputs": [
    {
     "data": {
      "text/plain": [
       "State                                 object\n",
       "Participation                         object\n",
       "Evidence-Based Reading and Writing     int64\n",
       "Math                                   int64\n",
       "Total                                  int64\n",
       "dtype: object"
      ]
     },
     "execution_count": 6,
     "metadata": {},
     "output_type": "execute_result"
    }
   ],
   "source": [
    "# Taking a closer look at the data types, to see if they correctly describe the data\n",
    "# Any discrepancies can mean errors in the data\n",
    "sat.dtypes"
   ]
  },
  {
   "cell_type": "code",
   "execution_count": 7,
   "metadata": {},
   "outputs": [
    {
     "data": {
      "text/plain": [
       "State             object\n",
       "Participation     object\n",
       "English          float64\n",
       "Math             float64\n",
       "Reading          float64\n",
       "Science          float64\n",
       "Composite         object\n",
       "dtype: object"
      ]
     },
     "execution_count": 7,
     "metadata": {},
     "output_type": "execute_result"
    }
   ],
   "source": [
    "act.dtypes"
   ]
  },
  {
   "cell_type": "markdown",
   "metadata": {},
   "source": [
    "*For analysis, ACT Composite scores should be a float, but closer inspection reveals that there is an error in Wyoming's Composite score. Furthermore, participation (both for the ACT and SAT) would be most useful as a float value for the purposes of analysis and should, therefore, be converted.*"
   ]
  },
  {
   "cell_type": "code",
   "execution_count": 8,
   "metadata": {},
   "outputs": [],
   "source": [
    "# Correcting the participation data\n",
    "# Defining a function to take a string input, \n",
    "# strip the % sign, and return as an int\n",
    "\n",
    "def remove_pct(x):\n",
    "    return int(x[:-1])\n",
    "\n",
    "sat['Participation'] = sat['Participation'].map(remove_pct)\n",
    "act['Participation'] = act['Participation'].map(remove_pct)"
   ]
  },
  {
   "cell_type": "code",
   "execution_count": 9,
   "metadata": {},
   "outputs": [],
   "source": [
    "# Correcting Wyoming's ACT Composite score\n",
    "act.loc[50, 'Composite'] = 20.2"
   ]
  },
  {
   "cell_type": "code",
   "execution_count": 10,
   "metadata": {},
   "outputs": [],
   "source": [
    "# Now that Wyoming's ACT Composite score is a float, \n",
    "# We can change the ACT Composite score type from object to float\n",
    "act['Composite'] = act['Composite'].astype('float64')"
   ]
  },
  {
   "cell_type": "code",
   "execution_count": 11,
   "metadata": {},
   "outputs": [
    {
     "data": {
      "text/plain": [
       "State             object\n",
       "Participation      int64\n",
       "English          float64\n",
       "Math             float64\n",
       "Reading          float64\n",
       "Science          float64\n",
       "Composite        float64\n",
       "dtype: object"
      ]
     },
     "execution_count": 11,
     "metadata": {},
     "output_type": "execute_result"
    }
   ],
   "source": [
    "# Confirming corrected dtypes\n",
    "act.dtypes"
   ]
  },
  {
   "cell_type": "code",
   "execution_count": 12,
   "metadata": {},
   "outputs": [],
   "source": [
    "# Changing column names since we'll be combining 2018 test data\n",
    "# Renaming using a dictionary\n",
    "act_rename = {\n",
    "    'State' : 'state',\n",
    "    'Composite' : '2017_act_total',\n",
    "    'English' : '2017_act_eng',\n",
    "    'Math' : '2017_act_math',\n",
    "    'Reading' : '2017_act_read',\n",
    "    'Science' : '2017_act_science',\n",
    "    'Participation' : '2017_act_part'\n",
    "}\n",
    "\n",
    "sat_rename = {\n",
    "    'State': 'state',\n",
    "    'Participation' : '2017_sat_part',\n",
    "    'Evidence-Based Reading and Writing' : '2017_sat_read',\n",
    "    'Math' : '2017_sat_math',\n",
    "    'Total' : '2017_sat_total'\n",
    "    \n",
    "}\n",
    "\n",
    "act.rename(act_rename, axis=1, inplace=True)\n",
    "sat.rename(sat_rename,axis=1,inplace=True)"
   ]
  },
  {
   "cell_type": "code",
   "execution_count": 13,
   "metadata": {},
   "outputs": [],
   "source": [
    "# At this point, we need to merge the 2017 SAT and ACT data into one dataframe\n",
    "# Used the pd.merge() function to merge DataFrames\n",
    "merge = pd.merge(sat,act,on='state')"
   ]
  },
  {
   "cell_type": "code",
   "execution_count": 14,
   "metadata": {},
   "outputs": [
    {
     "name": "stdout",
     "output_type": "stream",
     "text": [
      "<class 'pandas.core.frame.DataFrame'>\n",
      "Int64Index: 51 entries, 0 to 50\n",
      "Data columns (total 11 columns):\n",
      "state               51 non-null object\n",
      "2017_sat_part       51 non-null int64\n",
      "2017_sat_read       51 non-null int64\n",
      "2017_sat_math       51 non-null int64\n",
      "2017_sat_total      51 non-null int64\n",
      "2017_act_part       51 non-null int64\n",
      "2017_act_eng        51 non-null float64\n",
      "2017_act_math       51 non-null float64\n",
      "2017_act_read       51 non-null float64\n",
      "2017_act_science    51 non-null float64\n",
      "2017_act_total      51 non-null float64\n",
      "dtypes: float64(5), int64(5), object(1)\n",
      "memory usage: 4.8+ KB\n"
     ]
    }
   ],
   "source": [
    "# Check to confirm changes were made correctly\n",
    "merge.info()"
   ]
  },
  {
   "cell_type": "code",
   "execution_count": 15,
   "metadata": {},
   "outputs": [],
   "source": [
    "# Saving the 2017 SAT and ACT merged data to an external .csv file\n",
    "merge.to_csv('./data/combined_2017.csv')"
   ]
  },
  {
   "cell_type": "markdown",
   "metadata": {},
   "source": [
    "## 2018 Data Import and Cleaning"
   ]
  },
  {
   "cell_type": "code",
   "execution_count": 16,
   "metadata": {},
   "outputs": [],
   "source": [
    "# We also have available the 2018 SAT and ACT data files\n",
    "# Reading in the appropriate data sets into DataFrames\n",
    "act18 = pd.read_csv('./data/act_2018.csv')\n",
    "sat18 = pd.read_csv('./data/sat_2018.csv')"
   ]
  },
  {
   "cell_type": "code",
   "execution_count": 17,
   "metadata": {},
   "outputs": [],
   "source": [
    "# Changing participation rates into correct format, renaming columns,\n",
    "# dropping 'National' entry in ACT, merging the 2018 data, \n",
    "# and saving the resulting .csv file\n",
    "sat18['Participation'] = sat18['Participation'].map(remove_pct)\n",
    "act18['Participation'] = act18['Participation'].map(remove_pct)"
   ]
  },
  {
   "cell_type": "code",
   "execution_count": 18,
   "metadata": {},
   "outputs": [],
   "source": [
    "sat18.rename({'State' : 'state', \n",
    "              'Total' : '2018_sat_total', \n",
    "              'Participation':'2018_sat_part',\n",
    "              'Evidence-Based Reading and Writing' : '2018_sat_read',\n",
    "              'Math' : '2018_sat_math'}, axis=1, inplace=True)\n",
    "act18.rename({'State': 'state', \n",
    "              'Composite': '2018_act_total',\n",
    "              'Participation' : '2018_act_part',},axis=1, inplace=True)"
   ]
  },
  {
   "cell_type": "code",
   "execution_count": 19,
   "metadata": {
    "scrolled": true
   },
   "outputs": [],
   "source": [
    "# There was an extraneous row called \"National\" in the 2018 ACT data\n",
    "# Dropped the row, as it was unncessary for analysis\n",
    "act18[act18['state']=='National']\n",
    "act18 = act18.drop(27)"
   ]
  },
  {
   "cell_type": "markdown",
   "metadata": {},
   "source": [
    "_At this point, I had a difficult time getting the resulting merged file to have the correct number of entries (51). I looked into the original files and realized that 'Oklahoma' and 'Mississippi' were misspelled in the SAT 2018 file. I went ahead and manually changed those values, although doing so in Pandas would not have been difficult._"
   ]
  },
  {
   "cell_type": "code",
   "execution_count": 22,
   "metadata": {},
   "outputs": [],
   "source": [
    "# Merging the 2018 SAT and ACT data into one dataframe\n",
    "merge18=pd.merge(sat18,act18,on='state')\n",
    "merge18.to_csv('./data/combined_2018.csv')"
   ]
  },
  {
   "cell_type": "code",
   "execution_count": 23,
   "metadata": {},
   "outputs": [
    {
     "data": {
      "text/plain": [
       "(51, 7)"
      ]
     },
     "execution_count": 23,
     "metadata": {},
     "output_type": "execute_result"
    }
   ],
   "source": [
    "# Confirming if merge was successful\n",
    "merge18.shape"
   ]
  },
  {
   "cell_type": "code",
   "execution_count": 24,
   "metadata": {},
   "outputs": [],
   "source": [
    "# Merging the 2017 and 2018 data\n",
    "final = pd.merge(merge,merge18,on='state')"
   ]
  },
  {
   "cell_type": "code",
   "execution_count": 25,
   "metadata": {
    "scrolled": true
   },
   "outputs": [
    {
     "data": {
      "text/plain": [
       "(51, 17)"
      ]
     },
     "execution_count": 25,
     "metadata": {},
     "output_type": "execute_result"
    }
   ],
   "source": [
    "# Checking out the data to see if the process was successful\n",
    "final.shape"
   ]
  },
  {
   "cell_type": "markdown",
   "metadata": {},
   "source": [
    "_I decided to also add four separate datasets to the final dataframe,_ [2016 median income](https://www.census.gov/content/dam/Census/library/publications/2017/acs/acsbr16-02.pdf), [2014 college bound high schoolers](http://www.higheredinfo.org/dbrowser/index.php?submeasure=63&year=2014&level=nation&mode=data&state=0), [2014-2015 Education Revenue by State](https://nces.ed.gov/programs/digest/d17/tables/dt17_235.20.asp?current=yes) and [2017 State Population Estimates](https://www.census.gov/data/tables/2017/demo/popest/state-total.html#par_textimage_1574439295). _The sources are linked. Although the years are not exactly matched up to the 2017 and 2018 tests, this is the most recent information available, and I believe will add valuable insight to the discussion. (Note: District of Columbia information was unavailable for 2014 college bound seniors)_"
   ]
  },
  {
   "cell_type": "code",
   "execution_count": 26,
   "metadata": {},
   "outputs": [],
   "source": [
    "# Adding four additional datasets to final,\n",
    "# 2016 median income by state, 2014 college bound high schoolers,\n",
    "# 2014-2015 education revenue by state, and 2017 population estimates by state.\n",
    "median_income = pd.read_csv('./data/median_income_2016.csv')\n",
    "college_bound = pd.read_csv('./data/college_bound.csv')\n",
    "revenue = pd.read_csv('./data/education_revenue.csv')\n",
    "pop = pd.read_csv('./data/2017_pop_est.csv')"
   ]
  },
  {
   "cell_type": "code",
   "execution_count": 27,
   "metadata": {},
   "outputs": [],
   "source": [
    "# The college_bound csv file has a few extraneous columns that I will not be using\n",
    "college_bound.drop(['high_school_grads','full-time_freshmen_2014'], axis=1, inplace=True)"
   ]
  },
  {
   "cell_type": "code",
   "execution_count": 28,
   "metadata": {},
   "outputs": [],
   "source": [
    "final = pd.merge(final,median_income,on='state')"
   ]
  },
  {
   "cell_type": "code",
   "execution_count": 29,
   "metadata": {},
   "outputs": [],
   "source": [
    "final = pd.merge(final,college_bound, on='state')"
   ]
  },
  {
   "cell_type": "markdown",
   "metadata": {},
   "source": [
    "_Currently, the revenue dataframe holds state education revenues in thousands. To simplify, I converted the numbers into billions by dividing each value by 1000000._"
   ]
  },
  {
   "cell_type": "code",
   "execution_count": 30,
   "metadata": {},
   "outputs": [],
   "source": [
    "# The revenue csv file also had 2 NA rows at the bottom of the csv for some reason\n",
    "# So I dropped them\n",
    "revenue.drop(51, inplace=True)\n",
    "revenue.drop(52, inplace=True)"
   ]
  },
  {
   "cell_type": "code",
   "execution_count": 31,
   "metadata": {},
   "outputs": [],
   "source": [
    "# Various functions to clean data\n",
    "def remove_commas(x):\n",
    "    return int(x.replace(',',''))\n",
    "\n",
    "def divide_million(x):\n",
    "    return round(x/1000000.0,2)\n",
    "\n",
    "def remove_periods(x):\n",
    "    return x[1:]"
   ]
  },
  {
   "cell_type": "code",
   "execution_count": 32,
   "metadata": {},
   "outputs": [],
   "source": [
    "# The revenue data had commas and were string objects, therefore had to clean the data\n",
    "# and divide by one million in order to get the data in billions\n",
    "revenue['education_revenue'] = revenue['education_revenue'].map(remove_commas)\n",
    "revenue['education_revenue'] = revenue['education_revenue'].map(divide_million)"
   ]
  },
  {
   "cell_type": "code",
   "execution_count": 33,
   "metadata": {},
   "outputs": [],
   "source": [
    "final = pd.merge(final,revenue,on='state')"
   ]
  },
  {
   "cell_type": "code",
   "execution_count": 34,
   "metadata": {},
   "outputs": [],
   "source": [
    "# The data entries for states had an odd period in the beginning of each name\n",
    "pop['state'] = pop['state'].map(remove_periods)"
   ]
  },
  {
   "cell_type": "code",
   "execution_count": 35,
   "metadata": {},
   "outputs": [],
   "source": [
    "# Population had commas and were string objects\n",
    "pop['2017_pop_est'] = pop['2017_pop_est'].map(remove_commas)"
   ]
  },
  {
   "cell_type": "code",
   "execution_count": 36,
   "metadata": {},
   "outputs": [],
   "source": [
    "final = pd.merge(final, pop, on='state')"
   ]
  },
  {
   "cell_type": "code",
   "execution_count": 37,
   "metadata": {},
   "outputs": [
    {
     "data": {
      "text/plain": [
       "state                 object\n",
       "2017_sat_part          int64\n",
       "2017_sat_read          int64\n",
       "2017_sat_math          int64\n",
       "2017_sat_total         int64\n",
       "2017_act_part          int64\n",
       "2017_act_eng         float64\n",
       "2017_act_math        float64\n",
       "2017_act_read        float64\n",
       "2017_act_science     float64\n",
       "2017_act_total       float64\n",
       "2018_sat_part          int64\n",
       "2018_sat_read          int64\n",
       "2018_sat_math          int64\n",
       "2018_sat_total         int64\n",
       "2018_act_part          int64\n",
       "2018_act_total       float64\n",
       "median_income          int64\n",
       "college_bound        float64\n",
       "education_revenue    float64\n",
       "2017_pop_est           int64\n",
       "dtype: object"
      ]
     },
     "execution_count": 37,
     "metadata": {},
     "output_type": "execute_result"
    }
   ],
   "source": [
    "# Final check to see if data types were correct\n",
    "final.dtypes"
   ]
  },
  {
   "cell_type": "code",
   "execution_count": 38,
   "metadata": {},
   "outputs": [],
   "source": [
    "# Outputting into a final .csv file\n",
    "final.to_csv('./data/final.csv')"
   ]
  },
  {
   "cell_type": "markdown",
   "metadata": {},
   "source": [
    "## Data dictionary of final dataframe to be used for analysis"
   ]
  },
  {
   "cell_type": "markdown",
   "metadata": {},
   "source": [
    "|**Feature**|**Type**|**Dataset**|**Description**|\n",
    "|---|---|---|---|\n",
    "|**state**|_object_|---|The state that the average score and subscore for each test was taken|\n",
    "|**2017_act_part** | _integer_ | 2017 ACT Data | The participation rate (as a percent) for each state (and District of Columbia) on the ACT in 2017|\n",
    "|**2017_act_eng** | _float_ | 2017 ACT Data | The average English subscore (out of 36) for each state (and District of Columbia) on the ACT in 2017|\n",
    "|**2017_act_math** | _float_ | 2017 ACT Data | The average Math subscore (out of 36) for each state (and District of Columbia) on the ACT in 2017|\n",
    "|**2017_act_read** | _float_ | 2017 ACT Data | The average Reading subscore (out of 36) for each state (and District of Columbia) on the ACT in 2017|\n",
    "|**2017_act_science** | _float_ | 2017 ACT Data | The average Science subscore (out of 36) for each state (and District of Columbia) on the ACT in 2017|\n",
    "|**2017_act_total** | _float_ | 2017 ACT Data | The average total score (out of 36) on the ACT test for each state in 2017 |\n",
    "|**2017_sat_part** | _int_ | 2017 SAT Data | The participation rate (as a percent) for each state (and District of Columbia) on the SAT in 2017|\n",
    "|**2017_sat_read** | _int_ | 2017 SAT Data | The average Evidence-Based Reading and Writing subscore (out of 800) on the SAT test for each state in 2017|\n",
    "|**2017_sat_math** | _int_ | 2017 SAT Data | The average Math subscore (out of 800) on the SAT test for each state in 2017|\n",
    "|**2017_sat_total** | _int_ | 2017 SAT Data | The average total score (out of 1600) on the SAT test for each state in 2017|\n",
    "|**2018_act_part** | _int_ | 2018 ACT Data | The participation rate (as a percent) for each state (and District of Columbia) on the ACT in 2018|\n",
    "|**2018_act_total** | _float_ | 2018 ACT Data | The average total score (out of 36) on the ACT test for each state in 2018 |\n",
    "|**2018_sat_part** | _int_ | 2018 SAT Data | The participation rate (as a percent) for each state (and District of Columbia) on the SAT in 2018|\n",
    "|**2018_sat_read** | _int_ | 2018 SAT Data | The average Evidence-Based Reading and Writing subscore (out of 800) on the SAT test for each state in 2018|\n",
    "|**2018_sat_math** | _int_ | 2018 SAT Data | The average Math subscore (out of 800) on the SAT test for each state in 2018|\n",
    "|**2018_sat_total** | _int_ | 2018 SAT Data | The average total score (out of 1600) on the SAT test for each state in 2018|\n",
    "|**median_income** | _int_ | 2016 US Census Data | The median income per household for each state in 2016|\n",
    "|**percent_college_bound** | _float_ | 2014 NCES (National Center for Education Statistics) Data  | The percent of college-bound seniors for each state in 2014|\n",
    "|**education_revenue** | _int_ | 2014-2015 NCES (National Center for Education Statistics) Data  | The total education revenue (in millions of dollars) for each state in 2014-2015|\n",
    "|**2017_pop_est** | _int_ | US Census | Estimated population for each state in 2017 by extrapolation from 2010 US Census|"
   ]
  },
  {
   "cell_type": "markdown",
   "metadata": {},
   "source": [
    "## Exploratory Data Analysis\n",
    "\n",
    "\n",
    "### Summary Statistics\n",
    "Using the describe() function, we can get a quick overview of the data"
   ]
  },
  {
   "cell_type": "code",
   "execution_count": 39,
   "metadata": {},
   "outputs": [
    {
     "data": {
      "text/html": [
       "<div>\n",
       "<style scoped>\n",
       "    .dataframe tbody tr th:only-of-type {\n",
       "        vertical-align: middle;\n",
       "    }\n",
       "\n",
       "    .dataframe tbody tr th {\n",
       "        vertical-align: top;\n",
       "    }\n",
       "\n",
       "    .dataframe thead th {\n",
       "        text-align: right;\n",
       "    }\n",
       "</style>\n",
       "<table border=\"1\" class=\"dataframe\">\n",
       "  <thead>\n",
       "    <tr style=\"text-align: right;\">\n",
       "      <th></th>\n",
       "      <th>count</th>\n",
       "      <th>mean</th>\n",
       "      <th>std</th>\n",
       "      <th>min</th>\n",
       "      <th>25%</th>\n",
       "      <th>50%</th>\n",
       "      <th>75%</th>\n",
       "      <th>max</th>\n",
       "    </tr>\n",
       "  </thead>\n",
       "  <tbody>\n",
       "    <tr>\n",
       "      <th>2017_sat_part</th>\n",
       "      <td>51.0</td>\n",
       "      <td>3.980392e+01</td>\n",
       "      <td>3.527663e+01</td>\n",
       "      <td>2.00</td>\n",
       "      <td>4.00</td>\n",
       "      <td>38.00</td>\n",
       "      <td>66.00</td>\n",
       "      <td>100.0</td>\n",
       "    </tr>\n",
       "    <tr>\n",
       "      <th>2017_sat_read</th>\n",
       "      <td>51.0</td>\n",
       "      <td>5.691176e+02</td>\n",
       "      <td>4.566690e+01</td>\n",
       "      <td>482.00</td>\n",
       "      <td>533.50</td>\n",
       "      <td>559.00</td>\n",
       "      <td>613.00</td>\n",
       "      <td>644.0</td>\n",
       "    </tr>\n",
       "    <tr>\n",
       "      <th>2017_sat_math</th>\n",
       "      <td>51.0</td>\n",
       "      <td>5.568824e+02</td>\n",
       "      <td>4.712140e+01</td>\n",
       "      <td>468.00</td>\n",
       "      <td>523.50</td>\n",
       "      <td>548.00</td>\n",
       "      <td>599.00</td>\n",
       "      <td>651.0</td>\n",
       "    </tr>\n",
       "    <tr>\n",
       "      <th>2017_sat_total</th>\n",
       "      <td>51.0</td>\n",
       "      <td>1.126098e+03</td>\n",
       "      <td>9.249481e+01</td>\n",
       "      <td>950.00</td>\n",
       "      <td>1055.50</td>\n",
       "      <td>1107.00</td>\n",
       "      <td>1212.00</td>\n",
       "      <td>1295.0</td>\n",
       "    </tr>\n",
       "    <tr>\n",
       "      <th>2017_act_part</th>\n",
       "      <td>51.0</td>\n",
       "      <td>6.525490e+01</td>\n",
       "      <td>3.214084e+01</td>\n",
       "      <td>8.00</td>\n",
       "      <td>31.00</td>\n",
       "      <td>69.00</td>\n",
       "      <td>100.00</td>\n",
       "      <td>100.0</td>\n",
       "    </tr>\n",
       "    <tr>\n",
       "      <th>2017_act_eng</th>\n",
       "      <td>51.0</td>\n",
       "      <td>2.093137e+01</td>\n",
       "      <td>2.353677e+00</td>\n",
       "      <td>16.30</td>\n",
       "      <td>19.00</td>\n",
       "      <td>20.70</td>\n",
       "      <td>23.30</td>\n",
       "      <td>25.5</td>\n",
       "    </tr>\n",
       "    <tr>\n",
       "      <th>2017_act_math</th>\n",
       "      <td>51.0</td>\n",
       "      <td>2.118235e+01</td>\n",
       "      <td>1.981989e+00</td>\n",
       "      <td>18.00</td>\n",
       "      <td>19.40</td>\n",
       "      <td>20.90</td>\n",
       "      <td>23.10</td>\n",
       "      <td>25.3</td>\n",
       "    </tr>\n",
       "    <tr>\n",
       "      <th>2017_act_read</th>\n",
       "      <td>51.0</td>\n",
       "      <td>2.201373e+01</td>\n",
       "      <td>2.067271e+00</td>\n",
       "      <td>18.10</td>\n",
       "      <td>20.45</td>\n",
       "      <td>21.80</td>\n",
       "      <td>24.15</td>\n",
       "      <td>26.0</td>\n",
       "    </tr>\n",
       "    <tr>\n",
       "      <th>2017_act_science</th>\n",
       "      <td>51.0</td>\n",
       "      <td>2.145098e+01</td>\n",
       "      <td>1.739353e+00</td>\n",
       "      <td>18.20</td>\n",
       "      <td>19.95</td>\n",
       "      <td>21.30</td>\n",
       "      <td>23.20</td>\n",
       "      <td>24.9</td>\n",
       "    </tr>\n",
       "    <tr>\n",
       "      <th>2017_act_total</th>\n",
       "      <td>51.0</td>\n",
       "      <td>2.151961e+01</td>\n",
       "      <td>2.020695e+00</td>\n",
       "      <td>17.80</td>\n",
       "      <td>19.80</td>\n",
       "      <td>21.40</td>\n",
       "      <td>23.60</td>\n",
       "      <td>25.5</td>\n",
       "    </tr>\n",
       "    <tr>\n",
       "      <th>2018_sat_part</th>\n",
       "      <td>51.0</td>\n",
       "      <td>4.574510e+01</td>\n",
       "      <td>3.731426e+01</td>\n",
       "      <td>2.00</td>\n",
       "      <td>4.50</td>\n",
       "      <td>52.00</td>\n",
       "      <td>77.50</td>\n",
       "      <td>100.0</td>\n",
       "    </tr>\n",
       "    <tr>\n",
       "      <th>2018_sat_read</th>\n",
       "      <td>51.0</td>\n",
       "      <td>5.636863e+02</td>\n",
       "      <td>4.750263e+01</td>\n",
       "      <td>480.00</td>\n",
       "      <td>534.50</td>\n",
       "      <td>552.00</td>\n",
       "      <td>610.50</td>\n",
       "      <td>643.0</td>\n",
       "    </tr>\n",
       "    <tr>\n",
       "      <th>2018_sat_math</th>\n",
       "      <td>51.0</td>\n",
       "      <td>5.562353e+02</td>\n",
       "      <td>4.777262e+01</td>\n",
       "      <td>480.00</td>\n",
       "      <td>522.50</td>\n",
       "      <td>544.00</td>\n",
       "      <td>593.50</td>\n",
       "      <td>655.0</td>\n",
       "    </tr>\n",
       "    <tr>\n",
       "      <th>2018_sat_total</th>\n",
       "      <td>51.0</td>\n",
       "      <td>1.120020e+03</td>\n",
       "      <td>9.415508e+01</td>\n",
       "      <td>977.00</td>\n",
       "      <td>1057.50</td>\n",
       "      <td>1098.00</td>\n",
       "      <td>1204.00</td>\n",
       "      <td>1298.0</td>\n",
       "    </tr>\n",
       "    <tr>\n",
       "      <th>2018_act_part</th>\n",
       "      <td>51.0</td>\n",
       "      <td>6.162745e+01</td>\n",
       "      <td>3.407812e+01</td>\n",
       "      <td>7.00</td>\n",
       "      <td>28.50</td>\n",
       "      <td>66.00</td>\n",
       "      <td>100.00</td>\n",
       "      <td>100.0</td>\n",
       "    </tr>\n",
       "    <tr>\n",
       "      <th>2018_act_total</th>\n",
       "      <td>51.0</td>\n",
       "      <td>2.149804e+01</td>\n",
       "      <td>2.117686e+00</td>\n",
       "      <td>17.70</td>\n",
       "      <td>19.95</td>\n",
       "      <td>21.30</td>\n",
       "      <td>23.65</td>\n",
       "      <td>25.6</td>\n",
       "    </tr>\n",
       "    <tr>\n",
       "      <th>median_income</th>\n",
       "      <td>51.0</td>\n",
       "      <td>5.814292e+04</td>\n",
       "      <td>9.819789e+03</td>\n",
       "      <td>41754.00</td>\n",
       "      <td>51303.00</td>\n",
       "      <td>56565.00</td>\n",
       "      <td>65642.00</td>\n",
       "      <td>78945.0</td>\n",
       "    </tr>\n",
       "    <tr>\n",
       "      <th>college_bound</th>\n",
       "      <td>51.0</td>\n",
       "      <td>6.019020e+01</td>\n",
       "      <td>1.115047e+01</td>\n",
       "      <td>0.00</td>\n",
       "      <td>58.45</td>\n",
       "      <td>62.50</td>\n",
       "      <td>64.95</td>\n",
       "      <td>74.5</td>\n",
       "    </tr>\n",
       "    <tr>\n",
       "      <th>education_revenue</th>\n",
       "      <td>51.0</td>\n",
       "      <td>1.269980e+01</td>\n",
       "      <td>1.519039e+01</td>\n",
       "      <td>1.42</td>\n",
       "      <td>3.26</td>\n",
       "      <td>7.45</td>\n",
       "      <td>14.10</td>\n",
       "      <td>74.4</td>\n",
       "    </tr>\n",
       "    <tr>\n",
       "      <th>2017_pop_est</th>\n",
       "      <td>51.0</td>\n",
       "      <td>6.386651e+06</td>\n",
       "      <td>7.316763e+06</td>\n",
       "      <td>579315.00</td>\n",
       "      <td>1766400.00</td>\n",
       "      <td>4454189.00</td>\n",
       "      <td>7211006.50</td>\n",
       "      <td>39536653.0</td>\n",
       "    </tr>\n",
       "  </tbody>\n",
       "</table>\n",
       "</div>"
      ],
      "text/plain": [
       "                   count          mean           std        min         25%  \\\n",
       "2017_sat_part       51.0  3.980392e+01  3.527663e+01       2.00        4.00   \n",
       "2017_sat_read       51.0  5.691176e+02  4.566690e+01     482.00      533.50   \n",
       "2017_sat_math       51.0  5.568824e+02  4.712140e+01     468.00      523.50   \n",
       "2017_sat_total      51.0  1.126098e+03  9.249481e+01     950.00     1055.50   \n",
       "2017_act_part       51.0  6.525490e+01  3.214084e+01       8.00       31.00   \n",
       "2017_act_eng        51.0  2.093137e+01  2.353677e+00      16.30       19.00   \n",
       "2017_act_math       51.0  2.118235e+01  1.981989e+00      18.00       19.40   \n",
       "2017_act_read       51.0  2.201373e+01  2.067271e+00      18.10       20.45   \n",
       "2017_act_science    51.0  2.145098e+01  1.739353e+00      18.20       19.95   \n",
       "2017_act_total      51.0  2.151961e+01  2.020695e+00      17.80       19.80   \n",
       "2018_sat_part       51.0  4.574510e+01  3.731426e+01       2.00        4.50   \n",
       "2018_sat_read       51.0  5.636863e+02  4.750263e+01     480.00      534.50   \n",
       "2018_sat_math       51.0  5.562353e+02  4.777262e+01     480.00      522.50   \n",
       "2018_sat_total      51.0  1.120020e+03  9.415508e+01     977.00     1057.50   \n",
       "2018_act_part       51.0  6.162745e+01  3.407812e+01       7.00       28.50   \n",
       "2018_act_total      51.0  2.149804e+01  2.117686e+00      17.70       19.95   \n",
       "median_income       51.0  5.814292e+04  9.819789e+03   41754.00    51303.00   \n",
       "college_bound       51.0  6.019020e+01  1.115047e+01       0.00       58.45   \n",
       "education_revenue   51.0  1.269980e+01  1.519039e+01       1.42        3.26   \n",
       "2017_pop_est        51.0  6.386651e+06  7.316763e+06  579315.00  1766400.00   \n",
       "\n",
       "                          50%         75%         max  \n",
       "2017_sat_part           38.00       66.00       100.0  \n",
       "2017_sat_read          559.00      613.00       644.0  \n",
       "2017_sat_math          548.00      599.00       651.0  \n",
       "2017_sat_total        1107.00     1212.00      1295.0  \n",
       "2017_act_part           69.00      100.00       100.0  \n",
       "2017_act_eng            20.70       23.30        25.5  \n",
       "2017_act_math           20.90       23.10        25.3  \n",
       "2017_act_read           21.80       24.15        26.0  \n",
       "2017_act_science        21.30       23.20        24.9  \n",
       "2017_act_total          21.40       23.60        25.5  \n",
       "2018_sat_part           52.00       77.50       100.0  \n",
       "2018_sat_read          552.00      610.50       643.0  \n",
       "2018_sat_math          544.00      593.50       655.0  \n",
       "2018_sat_total        1098.00     1204.00      1298.0  \n",
       "2018_act_part           66.00      100.00       100.0  \n",
       "2018_act_total          21.30       23.65        25.6  \n",
       "median_income        56565.00    65642.00     78945.0  \n",
       "college_bound           62.50       64.95        74.5  \n",
       "education_revenue        7.45       14.10        74.4  \n",
       "2017_pop_est       4454189.00  7211006.50  39536653.0  "
      ]
     },
     "execution_count": 39,
     "metadata": {},
     "output_type": "execute_result"
    }
   ],
   "source": [
    "# Using the .describe() function to get an overview of the data \n",
    "final.describe().T"
   ]
  },
  {
   "cell_type": "markdown",
   "metadata": {},
   "source": [
    "At this point, I decided to manually calculate the standard deviation, for practice and principle"
   ]
  },
  {
   "cell_type": "markdown",
   "metadata": {},
   "source": [
    "#### Manually calculate standard deviation\n",
    "$$\\sigma = \\sqrt{\\frac{1}{n}\\sum_{i=1}^n(x_i - \\mu)^2}$$"
   ]
  },
  {
   "cell_type": "code",
   "execution_count": 40,
   "metadata": {},
   "outputs": [],
   "source": [
    "# Creating a function to 'manually' calculate the standard deviation\n",
    "def stan_dev(col):\n",
    "    return (sum([(np.mean(col) - x)**2 for x in col])/len(col))**0.5"
   ]
  },
  {
   "cell_type": "code",
   "execution_count": 41,
   "metadata": {
    "scrolled": true
   },
   "outputs": [
    {
     "data": {
      "text/plain": [
       "{'2017_sat_part': 34.92907076664508,\n",
       " '2017_sat_read': 45.21697020437866,\n",
       " '2017_sat_math': 46.65713364485503,\n",
       " '2017_sat_total': 91.58351056778743,\n",
       " '2017_act_part': 31.824175751231806,\n",
       " '2017_act_eng': 2.3304876369363363,\n",
       " '2017_act_math': 1.9624620273436781,\n",
       " '2017_act_read': 2.0469029314842646,\n",
       " '2017_act_science': 1.7222161451443676,\n",
       " '2017_act_total': 2.000786081581989,\n",
       " '2018_sat_part': 36.946619223539415,\n",
       " '2018_sat_read': 47.03460978357609,\n",
       " '2018_sat_math': 47.30194550378352,\n",
       " '2018_sat_total': 93.22742384464433,\n",
       " '2018_act_part': 33.7423692371741,\n",
       " '2018_act_total': 2.0968220768561987,\n",
       " 'median_income': 9723.040248817395,\n",
       " 'college_bound': 11.040606954435862,\n",
       " 'education_revenue': 15.040729343261232,\n",
       " '2017_pop_est': 7244675.155802111}"
      ]
     },
     "execution_count": 41,
     "metadata": {},
     "output_type": "execute_result"
    }
   ],
   "source": [
    "# Used dictionary comprehension (more practice!) to apply \n",
    "# my standard deviation function to each numeric column in the dataframe\n",
    "{key : stan_dev(final[key])for key in list(final.to_dict(orient='list').keys())[1:]}"
   ]
  },
  {
   "cell_type": "code",
   "execution_count": 42,
   "metadata": {},
   "outputs": [
    {
     "data": {
      "text/plain": [
       "{'2017_sat_part': 34.92907076664508,\n",
       " '2017_sat_read': 45.21697020437866,\n",
       " '2017_sat_math': 46.65713364485503,\n",
       " '2017_sat_total': 91.58351056778743,\n",
       " '2017_act_part': 31.824175751231806,\n",
       " '2017_act_eng': 2.3304876369363363,\n",
       " '2017_act_math': 1.9624620273436781,\n",
       " '2017_act_read': 2.0469029314842646,\n",
       " '2017_act_science': 1.7222161451443676,\n",
       " '2017_act_total': 2.000786081581989,\n",
       " '2018_sat_part': 36.946619223539415,\n",
       " '2018_sat_read': 47.03460978357609,\n",
       " '2018_sat_math': 47.30194550378352,\n",
       " '2018_sat_total': 93.22742384464433,\n",
       " '2018_act_part': 33.7423692371741,\n",
       " '2018_act_total': 2.0968220768561987,\n",
       " 'median_income': 9723.040248817395,\n",
       " 'college_bound': 11.040606954435862,\n",
       " 'education_revenue': 15.040729343261232,\n",
       " '2017_pop_est': 7244675.155802111}"
      ]
     },
     "execution_count": 42,
     "metadata": {},
     "output_type": "execute_result"
    }
   ],
   "source": [
    "# Also used Numpy's standard deviation function for comparison\n",
    "{key : np.std(final[key])for key in list(final.to_dict(orient='list').keys())[1:]}"
   ]
  },
  {
   "cell_type": "markdown",
   "metadata": {},
   "source": [
    "_It seems that my manual function to calculate standard deviation produces the same values as numpy's std function, but different results from pandas describe() function by a small amount. This could be due to differences in writing the function for efficiency on the Pandas dataframe._"
   ]
  },
  {
   "cell_type": "markdown",
   "metadata": {},
   "source": [
    "### Investigate trends in the data\n",
    "Using sorting and masking I investigated any trends in the data, first seeing what states had the highest and lowest participation rates and total scores."
   ]
  },
  {
   "cell_type": "code",
   "execution_count": 43,
   "metadata": {},
   "outputs": [
    {
     "data": {
      "text/html": [
       "<div>\n",
       "<style scoped>\n",
       "    .dataframe tbody tr th:only-of-type {\n",
       "        vertical-align: middle;\n",
       "    }\n",
       "\n",
       "    .dataframe tbody tr th {\n",
       "        vertical-align: top;\n",
       "    }\n",
       "\n",
       "    .dataframe thead th {\n",
       "        text-align: right;\n",
       "    }\n",
       "</style>\n",
       "<table border=\"1\" class=\"dataframe\">\n",
       "  <thead>\n",
       "    <tr style=\"text-align: right;\">\n",
       "      <th></th>\n",
       "      <th>state</th>\n",
       "      <th>2018_act_part</th>\n",
       "    </tr>\n",
       "  </thead>\n",
       "  <tbody>\n",
       "    <tr>\n",
       "      <th>19</th>\n",
       "      <td>Maine</td>\n",
       "      <td>7</td>\n",
       "    </tr>\n",
       "    <tr>\n",
       "      <th>39</th>\n",
       "      <td>Rhode Island</td>\n",
       "      <td>15</td>\n",
       "    </tr>\n",
       "    <tr>\n",
       "      <th>29</th>\n",
       "      <td>New Hampshire</td>\n",
       "      <td>16</td>\n",
       "    </tr>\n",
       "    <tr>\n",
       "      <th>7</th>\n",
       "      <td>Delaware</td>\n",
       "      <td>17</td>\n",
       "    </tr>\n",
       "    <tr>\n",
       "      <th>38</th>\n",
       "      <td>Pennsylvania</td>\n",
       "      <td>20</td>\n",
       "    </tr>\n",
       "  </tbody>\n",
       "</table>\n",
       "</div>"
      ],
      "text/plain": [
       "            state  2018_act_part\n",
       "19          Maine              7\n",
       "39   Rhode Island             15\n",
       "29  New Hampshire             16\n",
       "7        Delaware             17\n",
       "38   Pennsylvania             20"
      ]
     },
     "execution_count": 43,
     "metadata": {},
     "output_type": "execute_result"
    }
   ],
   "source": [
    "# Used filtering to find states with the highest \n",
    "# and lowest participation rates\n",
    "final.sort_values(by='2018_act_part')[['state','2018_act_part']].head()"
   ]
  },
  {
   "cell_type": "markdown",
   "metadata": {},
   "source": [
    "*Using filtering, I determined the following:*\n",
    "- state with the lowest 2017 SAT participation rate was North Dakota at 2%\n",
    "- state with the lowest 2018 SAT participation rate was North Dakota at 2%\n",
    "- state with the lowest 2017 ACT participation rate was Maine at 8%\n",
    "- state with the lowest 2018 ACT participation rate was Maine at 7%\n",
    "\n",
    "*However, there are many states that require mandatory SAT or ACT testing. Therefore, finding the states with the highest participation rates for both the SAT and ACT is unncessary, since some states are at a 100% participation rate. Perhaps a state that is worth noting is Colorado, since the transition year between 2017 and 2018 was the year that Colorado switched from administering the ACT to the SAT test.*"
   ]
  },
  {
   "cell_type": "code",
   "execution_count": 44,
   "metadata": {},
   "outputs": [
    {
     "data": {
      "text/html": [
       "<div>\n",
       "<style scoped>\n",
       "    .dataframe tbody tr th:only-of-type {\n",
       "        vertical-align: middle;\n",
       "    }\n",
       "\n",
       "    .dataframe tbody tr th {\n",
       "        vertical-align: top;\n",
       "    }\n",
       "\n",
       "    .dataframe thead th {\n",
       "        text-align: right;\n",
       "    }\n",
       "</style>\n",
       "<table border=\"1\" class=\"dataframe\">\n",
       "  <thead>\n",
       "    <tr style=\"text-align: right;\">\n",
       "      <th></th>\n",
       "      <th>state</th>\n",
       "      <th>2017_act_total</th>\n",
       "    </tr>\n",
       "  </thead>\n",
       "  <tbody>\n",
       "    <tr>\n",
       "      <th>29</th>\n",
       "      <td>New Hampshire</td>\n",
       "      <td>25.5</td>\n",
       "    </tr>\n",
       "    <tr>\n",
       "      <th>21</th>\n",
       "      <td>Massachusetts</td>\n",
       "      <td>25.4</td>\n",
       "    </tr>\n",
       "    <tr>\n",
       "      <th>6</th>\n",
       "      <td>Connecticut</td>\n",
       "      <td>25.2</td>\n",
       "    </tr>\n",
       "    <tr>\n",
       "      <th>19</th>\n",
       "      <td>Maine</td>\n",
       "      <td>24.3</td>\n",
       "    </tr>\n",
       "    <tr>\n",
       "      <th>32</th>\n",
       "      <td>New York</td>\n",
       "      <td>24.2</td>\n",
       "    </tr>\n",
       "  </tbody>\n",
       "</table>\n",
       "</div>"
      ],
      "text/plain": [
       "            state  2017_act_total\n",
       "29  New Hampshire            25.5\n",
       "21  Massachusetts            25.4\n",
       "6     Connecticut            25.2\n",
       "19          Maine            24.3\n",
       "32       New York            24.2"
      ]
     },
     "execution_count": 44,
     "metadata": {},
     "output_type": "execute_result"
    }
   ],
   "source": [
    "# Used masking to determine states with the highest total scores.\n",
    "mask = final['2017_act_total'] > final['2017_act_total'].mean()\n",
    "final[mask][['state','2017_act_total']].sort_values(by='2017_act_total',ascending=False).head()"
   ]
  },
  {
   "cell_type": "code",
   "execution_count": 45,
   "metadata": {},
   "outputs": [
    {
     "data": {
      "text/html": [
       "<div>\n",
       "<style scoped>\n",
       "    .dataframe tbody tr th:only-of-type {\n",
       "        vertical-align: middle;\n",
       "    }\n",
       "\n",
       "    .dataframe tbody tr th {\n",
       "        vertical-align: top;\n",
       "    }\n",
       "\n",
       "    .dataframe thead th {\n",
       "        text-align: right;\n",
       "    }\n",
       "</style>\n",
       "<table border=\"1\" class=\"dataframe\">\n",
       "  <thead>\n",
       "    <tr style=\"text-align: right;\">\n",
       "      <th></th>\n",
       "      <th>state</th>\n",
       "      <th>2018_act_total</th>\n",
       "    </tr>\n",
       "  </thead>\n",
       "  <tbody>\n",
       "    <tr>\n",
       "      <th>28</th>\n",
       "      <td>Nevada</td>\n",
       "      <td>17.7</td>\n",
       "    </tr>\n",
       "    <tr>\n",
       "      <th>40</th>\n",
       "      <td>South Carolina</td>\n",
       "      <td>18.3</td>\n",
       "    </tr>\n",
       "    <tr>\n",
       "      <th>24</th>\n",
       "      <td>Mississippi</td>\n",
       "      <td>18.6</td>\n",
       "    </tr>\n",
       "    <tr>\n",
       "      <th>11</th>\n",
       "      <td>Hawaii</td>\n",
       "      <td>18.9</td>\n",
       "    </tr>\n",
       "    <tr>\n",
       "      <th>0</th>\n",
       "      <td>Alabama</td>\n",
       "      <td>19.1</td>\n",
       "    </tr>\n",
       "  </tbody>\n",
       "</table>\n",
       "</div>"
      ],
      "text/plain": [
       "             state  2018_act_total\n",
       "28          Nevada            17.7\n",
       "40  South Carolina            18.3\n",
       "24     Mississippi            18.6\n",
       "11          Hawaii            18.9\n",
       "0          Alabama            19.1"
      ]
     },
     "execution_count": 45,
     "metadata": {},
     "output_type": "execute_result"
    }
   ],
   "source": [
    "# Used masking to determine states with the lowest total scores.\n",
    "mask = final['2018_act_total'] < final['2018_act_total'].mean()\n",
    "final[mask][['state','2018_act_total']].sort_values(by='2018_act_total').head()"
   ]
  },
  {
   "cell_type": "markdown",
   "metadata": {},
   "source": [
    "*Using masking, I determined the following:*\n",
    "- The state with the highest 2017 SAT total score was Minnesota at 1295\n",
    "- The state with the lowest 2017 SAT total score was Delaware at 996\n",
    "- The state with the highest 2018 SAT total score was Minnesota at 1298\n",
    "- The state with the lowest 2018 SAT total score was Delaware at 998\n",
    "- The state with the highest 2017 ACT total score was New Hampshire at 25.5\n",
    "- The state with the lowest 2017 ACT total score was Nevada at 17.8\n",
    "- The state with the highest 2018 ACT total score was Connecticut at 25.6\n",
    "- The state with the lowest 2018 ACT total score was Nevada at 17.7\n",
    "\n",
    "*It seems more than likely that states with the highest and lowest scores repeated their streaks in 2017 and 2018 (Minnesota had the highest score for the SAT two years in a row, Delaware had the lowest SAT score for two years in a row), perhaps signifying a bigger underlying issue(s) that is impacting those scores.*"
   ]
  },
  {
   "cell_type": "markdown",
   "metadata": {},
   "source": [
    "## Visualizing the data\n",
    "\n",
    "When first visualizing the data, I decided to use a heatmap. Heatmaps are generally not appropriate for presentations, and should often be excluded from reports as they can be visually overwhelming. **However**, they can be extremely useful in identify relationships of potential interest (as well as identifying potential collinearity before modeling)."
   ]
  },
  {
   "cell_type": "code",
   "execution_count": 46,
   "metadata": {
    "scrolled": false
   },
   "outputs": [
    {
     "data": {
      "image/png": "[encoded data removed]",
      "text/plain": [
       "<Figure size 864x864 with 2 Axes>"
      ]
     },
     "metadata": {
      "needs_background": "light"
     },
     "output_type": "display_data"
    }
   ],
   "source": [
    "# Putting all numerica data columns into a heatmap for a quick glance into correlation\n",
    "fig,ax = plt.subplots(figsize=(12,12))\n",
    "corr = final.corr()\n",
    "mask = np.zeros_like(corr)\n",
    "mask[np.triu_indices_from(mask)] = True\n",
    "cmap = sns.diverging_palette(220, 10, as_cmap=True)\n",
    "ax = sns.heatmap(corr, \n",
    "                 vmin=-1,\n",
    "                 vmax=1, \n",
    "                 annot = True, \n",
    "                 annot_kws={\"size\": 10}, \n",
    "                 linewidths=.25,\n",
    "                 mask = mask,\n",
    "                 square = True,\n",
    "                 cmap = cmap,\n",
    "                 cbar_kws = {'shrink' : .75})\n",
    "plt.title('Correlations between all numeric data columns', fontsize = 20);"
   ]
  },
  {
   "cell_type": "markdown",
   "metadata": {},
   "source": [
    "_Some points of interest is the **high negative correlation between high achievement on the SAT (or ACT) test and their respective total scores** (ie. the correlation between 2017 SAT Participation and 2017 SAT Total score is -0.87). Also interesting is the **high negative correlation between 2017 SAT and ACT participation (-0.84)**. Perhaps unsurprisingly, the correlation between **a test's total score is highly positive with its subscores** (ie. 2017 ACT total and 2017 ACT Math has a correlation of 0.99). Something to note from the extra data that was added is that the **Population (2017 estimate) and Education revenue is highly correlated at 0.95**._"
   ]
  },
  {
   "cell_type": "markdown",
   "metadata": {},
   "source": [
    "### Histograms to visualize distribution\n",
    "\n",
    "We can use histograms to get a general picture of a set of data's distribution and see whether or not the data is normal or not."
   ]
  },
  {
   "cell_type": "code",
   "execution_count": 47,
   "metadata": {},
   "outputs": [],
   "source": [
    "# Wrote a custom function to draw histograms\n",
    "def subplot_histograms(dataframe, list_of_columns, list_of_titles, list_of_xlabels):\n",
    "    nrows = int(np.ceil(len(list_of_columns)/2)) # Makes sure you have enough rows          \n",
    "    fig, ax = plt.subplots(nrows=nrows, ncols=2, figsize = (12,nrows*4)) # You'll want to specify your figsize\n",
    "    ax = ax.ravel() # Ravel turns a matrix into a vector, which is easier to iterate\n",
    "    for i, column in enumerate(list_of_columns): # Gives us an index value to get into all our lists\n",
    "        ax[i].hist(dataframe[column]) # feel free to add more settings\n",
    "        ax[i].set_title(list_of_titles[i]) # Set titles, labels, etc here for each subplot\n",
    "        ax[i].set_xlabel(list_of_xlabels[i])\n",
    "        ax[i].axvline(dataframe[column].mean(), color='r', alpha=0.7)\n",
    "    plt.tight_layout()"
   ]
  },
  {
   "cell_type": "markdown",
   "metadata": {},
   "source": [
    "- Participation rates for SAT & ACT"
   ]
  },
  {
   "cell_type": "code",
   "execution_count": 48,
   "metadata": {},
   "outputs": [
    {
     "data": {
      "image/png": "[encoded data removed]",
      "text/plain": [
       "<Figure size 864x576 with 4 Axes>"
      ]
     },
     "metadata": {
      "needs_background": "light"
     },
     "output_type": "display_data"
    }
   ],
   "source": [
    "subplot_histograms(final, \n",
    "                   ['2017_sat_part','2018_sat_part','2017_act_part','2018_act_part'], \n",
    "                   ['2017 SAT state distribution','2018 SAT state distribution','2017 ACT state distribution','2018 ACT state distribution'],\n",
    "                   ['Percent of participation','Percent of participation','Percent of participation','Percent of participation'])"
   ]
  },
  {
   "cell_type": "markdown",
   "metadata": {},
   "source": [
    "_The distribution of participation rates by state is shown above. The red line demarcates the average participation rate for all states. On a high level, it seems that the average SAT participation rate is slowly increasing (from about 39% to 43%) and the average ACT participation rate is slowly decreasing (from about 65% to 61%) from 2017 to 2018. However, there is still a heavy portion of SAT participation rates below 20%, and a heavy portion of ACT participation rates above 80%. This probably indicates that the ACT is still the mandatory test for many states._ "
   ]
  },
  {
   "cell_type": "markdown",
   "metadata": {},
   "source": [
    "- Math scores for SAT & ACT"
   ]
  },
  {
   "cell_type": "code",
   "execution_count": 49,
   "metadata": {},
   "outputs": [
    {
     "data": {
      "image/png": "[encoded data removed]",
      "text/plain": [
       "<Figure size 864x288 with 2 Axes>"
      ]
     },
     "metadata": {
      "needs_background": "light"
     },
     "output_type": "display_data"
    }
   ],
   "source": [
    "subplot_histograms(final, \n",
    "                   ['2017_sat_math', '2017_act_math'], \n",
    "                   ['2017 SAT state distribution', '2017 ACT state distribution'],\n",
    "                   ['SAT Math score (out of 800)','ACT Math score (out of 36)'])"
   ]
  },
  {
   "cell_type": "markdown",
   "metadata": {},
   "source": [
    "_The average SAT math score amongst the states is around 560 and the ACT math score is about 21.2. According to online conversion tools, the SAT score of 560 correlates to an ACT score of 23, which is higher than the actual ACT average.  \n",
    "However, it seems that the distribution of SAT math scores is skewed right, with the majority of scores under the mean, whereas the distribution of the ACT math scores seems to be more evenly distributed (although also a bit skewed right). The SAT distribution is bimodal, with high density of scores occurring between 600 and 625. The ACT distribution seems to have various peaks of high density in the upper end, as well. This could possibly be the states that do not have mandatory state testing, where students who choose to take the test will achieve generally higher than those who are required to take the test._"
   ]
  },
  {
   "cell_type": "markdown",
   "metadata": {},
   "source": [
    "- Reading/verbal scores for SAT & ACT"
   ]
  },
  {
   "cell_type": "code",
   "execution_count": 50,
   "metadata": {},
   "outputs": [
    {
     "data": {
      "image/png": "[encoded data removed]",
      "text/plain": [
       "<Figure size 864x288 with 2 Axes>"
      ]
     },
     "metadata": {
      "needs_background": "light"
     },
     "output_type": "display_data"
    }
   ],
   "source": [
    "subplot_histograms(final, \n",
    "                   ['2017_sat_read', '2017_act_read'], \n",
    "                   ['2017 SAT state distribution', '2017 ACT state distribution'],\n",
    "                   ['SAT Evidence-Based Reading and Writing score (out of 800)','ACT Reading score (out of 36)'])"
   ]
  },
  {
   "cell_type": "markdown",
   "metadata": {},
   "source": [
    "_The average SAT score amongst the states is around 570 and the average ACT score is about 22. Using the online conversion tool, an SAT score of 570 roughly translates to an ACT score of about 25, which is higher than the actual ACT average.  \n",
    "Interestingly, the SAT reading scores has two peaks, with one occuring below the mean and the other occurring well above the mean. Once again, this is probably due to the nature of mandatory testing. The ACT reading scores seem to have three peaks._"
   ]
  },
  {
   "cell_type": "markdown",
   "metadata": {},
   "source": [
    "### Scatter plots to visualize correlation\n",
    "\n",
    "We can use scatter plots to see what the relationship between two sets of data looks like, and determine whether they are highly correlated or not. In my scatter plots, I used a red line to denote the mean value of each data set, to help us visualize the data."
   ]
  },
  {
   "cell_type": "code",
   "execution_count": 86,
   "metadata": {},
   "outputs": [],
   "source": [
    "# Wrote a custom function to draw scatter plots\n",
    "def subplot_scatter(dataframe, xcol, ycol, title, xlabel, ylabel):            \n",
    "    fig, ax = plt.subplots(figsize = (8, 6))\n",
    "    plt.scatter(dataframe[xcol], dataframe[ycol])\n",
    "    plt.title(title, fontsize = 20)\n",
    "    plt.xlabel(xlabel)\n",
    "    plt.ylabel(ylabel)\n",
    "    plt.axvline(dataframe[xcol].mean(), color='r', alpha = 0.5)\n",
    "    plt.axhline(dataframe[ycol].mean(), color='r', alpha = 0.5)"
   ]
  },
  {
   "cell_type": "markdown",
   "metadata": {},
   "source": [
    "- SAT vs. ACT math scores for 2017"
   ]
  },
  {
   "cell_type": "code",
   "execution_count": 52,
   "metadata": {},
   "outputs": [
    {
     "data": {
      "image/png": "[encoded data removed]",
      "text/plain": [
       "<Figure size 576x432 with 1 Axes>"
      ]
     },
     "metadata": {
      "needs_background": "light"
     },
     "output_type": "display_data"
    }
   ],
   "source": [
    "subplot_scatter(final,\n",
    "                '2017_sat_math',\n",
    "                '2017_act_math',\n",
    "                'SAT vs. ACT Math Scores', \n",
    "                'SAT Math Score (up to 800)',\n",
    "                'ACT Math Score (up to 36)')"
   ]
  },
  {
   "cell_type": "markdown",
   "metadata": {},
   "source": [
    "_The above scatter plot of SAT Math and ACT Math scores reveals some interesting insight. The red lines signify the mean values for each test and they divide up the scatter plot into quadrants. Normally, we would expect that achievement on one math test would correlate to similar achievement on the other (since we assume that the math being tested on is the same math!). Therefore, we would assume most of our data points in the scatter plot to fall into either the top right or the bottom left quadrants. But contrary to expectation, most of the data falls into the top left and the bottom right quadrants, meaning that there is **a negative correlation between the math scores**. Odd to think about, but there could be other factors at play here.  \n",
    "Based on the other information, we can conclude that states that have mandatory testing of the SAT will have a lower average math score but a higher ACT math score, and vice versa.  \n",
    "What is perhaps more concerning are the **states that fall below average for both tests.** Let's call this bottom-left quadrant the \"Danger Zone.\" These would be states that, regardless of mandatory testing or not, have generally poorer average test achievement. Using masking, we can determine those states to be the following:_"
   ]
  },
  {
   "cell_type": "code",
   "execution_count": 55,
   "metadata": {
    "scrolled": true
   },
   "outputs": [
    {
     "data": {
      "text/html": [
       "<div>\n",
       "<style scoped>\n",
       "    .dataframe tbody tr th:only-of-type {\n",
       "        vertical-align: middle;\n",
       "    }\n",
       "\n",
       "    .dataframe tbody tr th {\n",
       "        vertical-align: top;\n",
       "    }\n",
       "\n",
       "    .dataframe thead th {\n",
       "        text-align: right;\n",
       "    }\n",
       "</style>\n",
       "<table border=\"1\" class=\"dataframe\">\n",
       "  <thead>\n",
       "    <tr style=\"text-align: right;\">\n",
       "      <th></th>\n",
       "      <th>state</th>\n",
       "      <th>2017_sat_math</th>\n",
       "      <th>2017_act_math</th>\n",
       "      <th>2017_sat_part</th>\n",
       "      <th>2017_act_part</th>\n",
       "      <th>median_income</th>\n",
       "    </tr>\n",
       "  </thead>\n",
       "  <tbody>\n",
       "    <tr>\n",
       "      <th>1</th>\n",
       "      <td>Alaska</td>\n",
       "      <td>533</td>\n",
       "      <td>19.8</td>\n",
       "      <td>38</td>\n",
       "      <td>65</td>\n",
       "      <td>76440</td>\n",
       "    </tr>\n",
       "    <tr>\n",
       "      <th>2</th>\n",
       "      <td>Arizona</td>\n",
       "      <td>553</td>\n",
       "      <td>19.8</td>\n",
       "      <td>30</td>\n",
       "      <td>62</td>\n",
       "      <td>53558</td>\n",
       "    </tr>\n",
       "    <tr>\n",
       "      <th>9</th>\n",
       "      <td>Florida</td>\n",
       "      <td>497</td>\n",
       "      <td>19.4</td>\n",
       "      <td>83</td>\n",
       "      <td>73</td>\n",
       "      <td>50860</td>\n",
       "    </tr>\n",
       "    <tr>\n",
       "      <th>10</th>\n",
       "      <td>Georgia</td>\n",
       "      <td>515</td>\n",
       "      <td>20.9</td>\n",
       "      <td>61</td>\n",
       "      <td>55</td>\n",
       "      <td>53559</td>\n",
       "    </tr>\n",
       "    <tr>\n",
       "      <th>11</th>\n",
       "      <td>Hawaii</td>\n",
       "      <td>541</td>\n",
       "      <td>19.2</td>\n",
       "      <td>55</td>\n",
       "      <td>90</td>\n",
       "      <td>74511</td>\n",
       "    </tr>\n",
       "    <tr>\n",
       "      <th>28</th>\n",
       "      <td>Nevada</td>\n",
       "      <td>553</td>\n",
       "      <td>18.0</td>\n",
       "      <td>26</td>\n",
       "      <td>100</td>\n",
       "      <td>55180</td>\n",
       "    </tr>\n",
       "    <tr>\n",
       "      <th>33</th>\n",
       "      <td>North Carolina</td>\n",
       "      <td>535</td>\n",
       "      <td>19.3</td>\n",
       "      <td>49</td>\n",
       "      <td>100</td>\n",
       "      <td>50584</td>\n",
       "    </tr>\n",
       "    <tr>\n",
       "      <th>36</th>\n",
       "      <td>Oklahoma</td>\n",
       "      <td>517</td>\n",
       "      <td>18.8</td>\n",
       "      <td>7</td>\n",
       "      <td>100</td>\n",
       "      <td>52334</td>\n",
       "    </tr>\n",
       "    <tr>\n",
       "      <th>40</th>\n",
       "      <td>South Carolina</td>\n",
       "      <td>521</td>\n",
       "      <td>18.6</td>\n",
       "      <td>50</td>\n",
       "      <td>100</td>\n",
       "      <td>49501</td>\n",
       "    </tr>\n",
       "    <tr>\n",
       "      <th>43</th>\n",
       "      <td>Texas</td>\n",
       "      <td>507</td>\n",
       "      <td>20.7</td>\n",
       "      <td>62</td>\n",
       "      <td>45</td>\n",
       "      <td>56565</td>\n",
       "    </tr>\n",
       "    <tr>\n",
       "      <th>48</th>\n",
       "      <td>West Virginia</td>\n",
       "      <td>528</td>\n",
       "      <td>19.4</td>\n",
       "      <td>14</td>\n",
       "      <td>69</td>\n",
       "      <td>43385</td>\n",
       "    </tr>\n",
       "  </tbody>\n",
       "</table>\n",
       "</div>"
      ],
      "text/plain": [
       "             state  2017_sat_math  2017_act_math  2017_sat_part  \\\n",
       "1           Alaska            533           19.8             38   \n",
       "2          Arizona            553           19.8             30   \n",
       "9          Florida            497           19.4             83   \n",
       "10         Georgia            515           20.9             61   \n",
       "11          Hawaii            541           19.2             55   \n",
       "28          Nevada            553           18.0             26   \n",
       "33  North Carolina            535           19.3             49   \n",
       "36        Oklahoma            517           18.8              7   \n",
       "40  South Carolina            521           18.6             50   \n",
       "43           Texas            507           20.7             62   \n",
       "48   West Virginia            528           19.4             14   \n",
       "\n",
       "    2017_act_part  median_income  \n",
       "1              65          76440  \n",
       "2              62          53558  \n",
       "9              73          50860  \n",
       "10             55          53559  \n",
       "11             90          74511  \n",
       "28            100          55180  \n",
       "33            100          50584  \n",
       "36            100          52334  \n",
       "40            100          49501  \n",
       "43             45          56565  \n",
       "48             69          43385  "
      ]
     },
     "execution_count": 55,
     "metadata": {},
     "output_type": "execute_result"
    }
   ],
   "source": [
    "# Bit-masking to filter out states that scored below average \n",
    "# on both the SAT Math and ACT Math subsections\n",
    "mask = (final['2017_sat_math'] < final['2017_sat_math'].mean()) & (final['2017_act_math'] < final['2017_act_math'].mean())\n",
    "final[mask][['state','2017_sat_math','2017_act_math','2017_sat_part','2017_act_part', 'median_income']]"
   ]
  },
  {
   "cell_type": "markdown",
   "metadata": {},
   "source": [
    "_Interestingly, the sum of the partipation rates for the SAT and ACT are over 100% for almost every state on the list (Arizona and West Virginia). Deeper inspection reveals that [Arizona is passing a bill that requires students to take either the SAT or ACT (free-of-charge)](https://www.azleg.gov/legtext/53leg/2R/bills/HB2037P.pdf), and [West Virginia participated in \"SAT Day\" in Spring 2018](https://wvde.state.wv.us/news/3413/).   \n",
    "Another statistic to note is that for most of these states, the ACT participation rate is higher than the SAT participation rate (except for Florida, Georgia, and Texas).  \n",
    "One explanation can be the mandatory testing and its effects on achievement.\n",
    "Another explanation (to be revealed later) is that there is a general correlation between states with lower median income and ACT participation, and states with higher median income and SAT participation. Perhaps this can also help explain the fact that these states might have lower median incomes._"
   ]
  },
  {
   "cell_type": "markdown",
   "metadata": {},
   "source": [
    "- SAT vs. ACT verbal/reading scores for 2017"
   ]
  },
  {
   "cell_type": "code",
   "execution_count": 56,
   "metadata": {},
   "outputs": [
    {
     "data": {
      "image/png": "[encoded data removed]",
      "text/plain": [
       "<Figure size 576x432 with 1 Axes>"
      ]
     },
     "metadata": {
      "needs_background": "light"
     },
     "output_type": "display_data"
    }
   ],
   "source": [
    "subplot_scatter(final,\n",
    "                '2017_sat_read',\n",
    "                '2017_act_read',\n",
    "                'SAT vs. ACT Reading Scores', \n",
    "                'SAT Evidence-Based Reading and Writing Score (up to 800)',\n",
    "                'ACT Reading Score (up to 36)')"
   ]
  },
  {
   "cell_type": "markdown",
   "metadata": {},
   "source": [
    "Following the same theme with the Math scores, there seems to be a general negative correlation with Reading scores, as well. Once again, the states in the bottom left quadrant (the so-called \"Danger Zone\") are the following:"
   ]
  },
  {
   "cell_type": "code",
   "execution_count": 81,
   "metadata": {
    "scrolled": false
   },
   "outputs": [
    {
     "data": {
      "text/html": [
       "<div>\n",
       "<style scoped>\n",
       "    .dataframe tbody tr th:only-of-type {\n",
       "        vertical-align: middle;\n",
       "    }\n",
       "\n",
       "    .dataframe tbody tr th {\n",
       "        vertical-align: top;\n",
       "    }\n",
       "\n",
       "    .dataframe thead th {\n",
       "        text-align: right;\n",
       "    }\n",
       "</style>\n",
       "<table border=\"1\" class=\"dataframe\">\n",
       "  <thead>\n",
       "    <tr style=\"text-align: right;\">\n",
       "      <th></th>\n",
       "      <th>state</th>\n",
       "      <th>2017_sat_read</th>\n",
       "      <th>2017_act_read</th>\n",
       "      <th>2017_sat_part</th>\n",
       "      <th>2017_act_part</th>\n",
       "    </tr>\n",
       "  </thead>\n",
       "  <tbody>\n",
       "    <tr>\n",
       "      <th>1</th>\n",
       "      <td>Alaska</td>\n",
       "      <td>547</td>\n",
       "      <td>20.4</td>\n",
       "      <td>38</td>\n",
       "      <td>65</td>\n",
       "    </tr>\n",
       "    <tr>\n",
       "      <th>2</th>\n",
       "      <td>Arizona</td>\n",
       "      <td>563</td>\n",
       "      <td>20.1</td>\n",
       "      <td>30</td>\n",
       "      <td>62</td>\n",
       "    </tr>\n",
       "    <tr>\n",
       "      <th>9</th>\n",
       "      <td>Florida</td>\n",
       "      <td>520</td>\n",
       "      <td>21.0</td>\n",
       "      <td>83</td>\n",
       "      <td>73</td>\n",
       "    </tr>\n",
       "    <tr>\n",
       "      <th>10</th>\n",
       "      <td>Georgia</td>\n",
       "      <td>535</td>\n",
       "      <td>22.0</td>\n",
       "      <td>61</td>\n",
       "      <td>55</td>\n",
       "    </tr>\n",
       "    <tr>\n",
       "      <th>11</th>\n",
       "      <td>Hawaii</td>\n",
       "      <td>544</td>\n",
       "      <td>19.2</td>\n",
       "      <td>55</td>\n",
       "      <td>90</td>\n",
       "    </tr>\n",
       "    <tr>\n",
       "      <th>13</th>\n",
       "      <td>Illinois</td>\n",
       "      <td>559</td>\n",
       "      <td>21.6</td>\n",
       "      <td>9</td>\n",
       "      <td>93</td>\n",
       "    </tr>\n",
       "    <tr>\n",
       "      <th>28</th>\n",
       "      <td>Nevada</td>\n",
       "      <td>563</td>\n",
       "      <td>18.1</td>\n",
       "      <td>26</td>\n",
       "      <td>100</td>\n",
       "    </tr>\n",
       "    <tr>\n",
       "      <th>33</th>\n",
       "      <td>North Carolina</td>\n",
       "      <td>546</td>\n",
       "      <td>19.6</td>\n",
       "      <td>49</td>\n",
       "      <td>100</td>\n",
       "    </tr>\n",
       "    <tr>\n",
       "      <th>36</th>\n",
       "      <td>Oklahoma</td>\n",
       "      <td>530</td>\n",
       "      <td>20.1</td>\n",
       "      <td>7</td>\n",
       "      <td>100</td>\n",
       "    </tr>\n",
       "    <tr>\n",
       "      <th>40</th>\n",
       "      <td>South Carolina</td>\n",
       "      <td>543</td>\n",
       "      <td>19.1</td>\n",
       "      <td>50</td>\n",
       "      <td>100</td>\n",
       "    </tr>\n",
       "    <tr>\n",
       "      <th>43</th>\n",
       "      <td>Texas</td>\n",
       "      <td>513</td>\n",
       "      <td>21.1</td>\n",
       "      <td>62</td>\n",
       "      <td>45</td>\n",
       "    </tr>\n",
       "    <tr>\n",
       "      <th>48</th>\n",
       "      <td>West Virginia</td>\n",
       "      <td>558</td>\n",
       "      <td>21.2</td>\n",
       "      <td>14</td>\n",
       "      <td>69</td>\n",
       "    </tr>\n",
       "  </tbody>\n",
       "</table>\n",
       "</div>"
      ],
      "text/plain": [
       "             state  2017_sat_read  2017_act_read  2017_sat_part  2017_act_part\n",
       "1           Alaska            547           20.4             38             65\n",
       "2          Arizona            563           20.1             30             62\n",
       "9          Florida            520           21.0             83             73\n",
       "10         Georgia            535           22.0             61             55\n",
       "11          Hawaii            544           19.2             55             90\n",
       "13        Illinois            559           21.6              9             93\n",
       "28          Nevada            563           18.1             26            100\n",
       "33  North Carolina            546           19.6             49            100\n",
       "36        Oklahoma            530           20.1              7            100\n",
       "40  South Carolina            543           19.1             50            100\n",
       "43           Texas            513           21.1             62             45\n",
       "48   West Virginia            558           21.2             14             69"
      ]
     },
     "execution_count": 81,
     "metadata": {},
     "output_type": "execute_result"
    }
   ],
   "source": [
    "mask = (final['2017_sat_read'] < final['2017_sat_read'].mean()) & (final['2017_act_read'] < final['2017_act_read'].mean())\n",
    "final[mask][['state','2017_sat_read','2017_act_read','2017_sat_part','2017_act_part']]"
   ]
  },
  {
   "cell_type": "markdown",
   "metadata": {},
   "source": [
    "_Surprise! The states in the \"Danger Zone\" for math also are in the \"Danger Zone\" for reading! There is one more state added to this list, which is Illinois. These states are perhaps in a bad educational \"state\", although there could be a plethora of other factors that play into this._"
   ]
  },
  {
   "cell_type": "markdown",
   "metadata": {},
   "source": [
    "- SAT vs. ACT total/composite scores for 2017"
   ]
  },
  {
   "cell_type": "code",
   "execution_count": 82,
   "metadata": {
    "scrolled": false
   },
   "outputs": [
    {
     "data": {
      "image/png": "[encoded data removed]",
      "text/plain": [
       "<Figure size 576x432 with 1 Axes>"
      ]
     },
     "metadata": {
      "needs_background": "light"
     },
     "output_type": "display_data"
    }
   ],
   "source": [
    "subplot_scatter(final,\n",
    "                '2017_sat_total',\n",
    "                '2017_act_total',\n",
    "                '2017 SAT vs. ACT Composite Scores', \n",
    "                'SAT Total Score (up to 1600)',\n",
    "                'ACT Composite Score (up to 36)')\n",
    "plt.savefig('Scatter Plot without red lines 2017 SAT and ACT Composite Scores.png')"
   ]
  },
  {
   "cell_type": "markdown",
   "metadata": {},
   "source": [
    "_The \"Danger Zone\" for the total composite score on the SAT and ACT consists of the twelve states mentioned in the previous discussion of Math and Reading scores. Once again, the general pattern is that of a negative correlation. Perhaps another topic of interest are the states in the upper right quadrant. These states scored better than the average for both the SAT and ACT and are worth looking into at this time._"
   ]
  },
  {
   "cell_type": "code",
   "execution_count": 100,
   "metadata": {
    "scrolled": false
   },
   "outputs": [
    {
     "data": {
      "text/html": [
       "<div>\n",
       "<style scoped>\n",
       "    .dataframe tbody tr th:only-of-type {\n",
       "        vertical-align: middle;\n",
       "    }\n",
       "\n",
       "    .dataframe tbody tr th {\n",
       "        vertical-align: top;\n",
       "    }\n",
       "\n",
       "    .dataframe thead th {\n",
       "        text-align: right;\n",
       "    }\n",
       "</style>\n",
       "<table border=\"1\" class=\"dataframe\">\n",
       "  <thead>\n",
       "    <tr style=\"text-align: right;\">\n",
       "      <th></th>\n",
       "      <th>state</th>\n",
       "      <th>2017_sat_total</th>\n",
       "      <th>2017_act_total</th>\n",
       "      <th>2017_sat_part</th>\n",
       "      <th>2017_act_part</th>\n",
       "    </tr>\n",
       "  </thead>\n",
       "  <tbody>\n",
       "    <tr>\n",
       "      <th>15</th>\n",
       "      <td>Iowa</td>\n",
       "      <td>1275</td>\n",
       "      <td>21.9</td>\n",
       "      <td>2</td>\n",
       "      <td>67</td>\n",
       "    </tr>\n",
       "    <tr>\n",
       "      <th>16</th>\n",
       "      <td>Kansas</td>\n",
       "      <td>1260</td>\n",
       "      <td>21.7</td>\n",
       "      <td>4</td>\n",
       "      <td>73</td>\n",
       "    </tr>\n",
       "    <tr>\n",
       "      <th>23</th>\n",
       "      <td>Minnesota</td>\n",
       "      <td>1295</td>\n",
       "      <td>21.5</td>\n",
       "      <td>3</td>\n",
       "      <td>100</td>\n",
       "    </tr>\n",
       "    <tr>\n",
       "      <th>35</th>\n",
       "      <td>Ohio</td>\n",
       "      <td>1149</td>\n",
       "      <td>22.0</td>\n",
       "      <td>12</td>\n",
       "      <td>75</td>\n",
       "    </tr>\n",
       "    <tr>\n",
       "      <th>41</th>\n",
       "      <td>South Dakota</td>\n",
       "      <td>1216</td>\n",
       "      <td>21.8</td>\n",
       "      <td>3</td>\n",
       "      <td>80</td>\n",
       "    </tr>\n",
       "  </tbody>\n",
       "</table>\n",
       "</div>"
      ],
      "text/plain": [
       "           state  2017_sat_total  2017_act_total  2017_sat_part  2017_act_part\n",
       "15          Iowa            1275            21.9              2             67\n",
       "16        Kansas            1260            21.7              4             73\n",
       "23     Minnesota            1295            21.5              3            100\n",
       "35          Ohio            1149            22.0             12             75\n",
       "41  South Dakota            1216            21.8              3             80"
      ]
     },
     "execution_count": 100,
     "metadata": {},
     "output_type": "execute_result"
    }
   ],
   "source": [
    "mask = (final['2017_sat_total'] > final['2017_sat_total'].mean()) & (final['2017_act_total'] > final['2017_act_total'].mean())\n",
    "final[mask][['state','2017_sat_total','2017_act_total','2017_sat_part','2017_act_part']]"
   ]
  },
  {
   "cell_type": "markdown",
   "metadata": {},
   "source": [
    "_These four states scored better than the average for the the ACT and the SAT tests in 2017. Interestingly, these four states are all located in the Midwestern region of the US. Furthermore, we can see that their SAT participation rate is much lower than their ACT partipication rate. While none of the states have mandatory testing of one of the two tests, [**research reveals that Ohio requires all students to take either the SAT or the ACT and score at a certain threshold to graduate high school.**](http://education.ohio.gov/Topics/Ohio-s-Graduation-Requirements/College-and-Career-Readiness-Test) Deeper look into Ohio's policies might produce a fruitful strategy in preparing students to succeed on college entrance exams._"
   ]
  },
  {
   "cell_type": "markdown",
   "metadata": {},
   "source": [
    "- Total scores for SAT 2017 vs. 2018"
   ]
  },
  {
   "cell_type": "code",
   "execution_count": 60,
   "metadata": {},
   "outputs": [
    {
     "data": {
      "image/png": "[encoded data removed]",
      "text/plain": [
       "<Figure size 576x432 with 1 Axes>"
      ]
     },
     "metadata": {
      "needs_background": "light"
     },
     "output_type": "display_data"
    }
   ],
   "source": [
    "subplot_scatter(final,\n",
    "                '2017_sat_total',\n",
    "                '2018_sat_total',\n",
    "                'SAT 2017 vs. 2018 Total Scores', \n",
    "                'SAT 2017 Total Score (up to 1600)', \n",
    "                'SAT 2018 Total Score (up to 1600)')"
   ]
  },
  {
   "cell_type": "markdown",
   "metadata": {},
   "source": [
    "_As expected, the general pattern for the graph shows high correlation between two years of consecutive SAT testing. However, the bottom right quadrant of states show that, though they beat the 2017 SAT average, they scored worse than the average the following year. Here are those states:_"
   ]
  },
  {
   "cell_type": "code",
   "execution_count": 61,
   "metadata": {},
   "outputs": [
    {
     "data": {
      "text/html": [
       "<div>\n",
       "<style scoped>\n",
       "    .dataframe tbody tr th:only-of-type {\n",
       "        vertical-align: middle;\n",
       "    }\n",
       "\n",
       "    .dataframe tbody tr th {\n",
       "        vertical-align: top;\n",
       "    }\n",
       "\n",
       "    .dataframe thead th {\n",
       "        text-align: right;\n",
       "    }\n",
       "</style>\n",
       "<table border=\"1\" class=\"dataframe\">\n",
       "  <thead>\n",
       "    <tr style=\"text-align: right;\">\n",
       "      <th></th>\n",
       "      <th>state</th>\n",
       "      <th>2017_sat_total</th>\n",
       "      <th>2018_sat_total</th>\n",
       "      <th>2017_sat_part</th>\n",
       "      <th>2018_sat_part</th>\n",
       "    </tr>\n",
       "  </thead>\n",
       "  <tbody>\n",
       "    <tr>\n",
       "      <th>5</th>\n",
       "      <td>Colorado</td>\n",
       "      <td>1201</td>\n",
       "      <td>1025</td>\n",
       "      <td>11</td>\n",
       "      <td>100</td>\n",
       "    </tr>\n",
       "    <tr>\n",
       "      <th>31</th>\n",
       "      <td>New Mexico</td>\n",
       "      <td>1138</td>\n",
       "      <td>1093</td>\n",
       "      <td>11</td>\n",
       "      <td>16</td>\n",
       "    </tr>\n",
       "    <tr>\n",
       "      <th>35</th>\n",
       "      <td>Ohio</td>\n",
       "      <td>1149</td>\n",
       "      <td>1099</td>\n",
       "      <td>12</td>\n",
       "      <td>18</td>\n",
       "    </tr>\n",
       "    <tr>\n",
       "      <th>44</th>\n",
       "      <td>Utah</td>\n",
       "      <td>1238</td>\n",
       "      <td>1010</td>\n",
       "      <td>3</td>\n",
       "      <td>4</td>\n",
       "    </tr>\n",
       "  </tbody>\n",
       "</table>\n",
       "</div>"
      ],
      "text/plain": [
       "         state  2017_sat_total  2018_sat_total  2017_sat_part  2018_sat_part\n",
       "5     Colorado            1201            1025             11            100\n",
       "31  New Mexico            1138            1093             11             16\n",
       "35        Ohio            1149            1099             12             18\n",
       "44        Utah            1238            1010              3              4"
      ]
     },
     "execution_count": 61,
     "metadata": {},
     "output_type": "execute_result"
    }
   ],
   "source": [
    "mask = (final['2017_sat_total'] > final['2017_sat_total'].mean()) & (final['2018_sat_total'] < final['2018_sat_total'].mean())\n",
    "final[mask][['state','2017_sat_total','2018_sat_total','2017_sat_part','2018_sat_part']]"
   ]
  },
  {
   "cell_type": "markdown",
   "metadata": {},
   "source": [
    "_Colorado's plummet in SAT score can be explained by the fact that in 2018 the SAT became a mandatory test for 11th graders to take as a part of state assessments. With the increase in participants (by almost 90%!) and the fact that it was no longer optional, it is inevitable that a state's average score would fall.  \n",
    "Furthermore, Utah's participation rate of only 3 to 4% is due to the fact that the [ACT is the mandatory test](https://www.schools.utah.gov/assessment/assessments). With only a small number of participants, we can expect there to be drastic changes to the average year-by-year.  \n",
    "However, New Mexico and Ohio are a little more difficult to explain. Both states have a minor negative change of score from year-to-year (at most 50 points, which is well within the standard deviation of 92 points). Both states saw an increase in participants to the SAT, and perhaps this is the driving force of the lower score._ "
   ]
  },
  {
   "cell_type": "markdown",
   "metadata": {},
   "source": [
    "- Composite scores for ACT 2017 vs. 2018"
   ]
  },
  {
   "cell_type": "code",
   "execution_count": 62,
   "metadata": {
    "scrolled": false
   },
   "outputs": [
    {
     "data": {
      "image/png": "[encoded data removed]",
      "text/plain": [
       "<Figure size 576x432 with 1 Axes>"
      ]
     },
     "metadata": {
      "needs_background": "light"
     },
     "output_type": "display_data"
    }
   ],
   "source": [
    "subplot_scatter(final,\n",
    "                '2017_act_total',\n",
    "                '2018_act_total',\n",
    "                'ACT 2017 vs. 2018 Composite Scores', \n",
    "                'ACT 2017 Total Score (up to 36)', \n",
    "                'ACT 2018 Total Score (up to 36)')"
   ]
  },
  {
   "cell_type": "markdown",
   "metadata": {},
   "source": [
    "_Once again, we observe a strong positive correlation between two consecutive compositive ACT state averages. But there are a few interesting observations here, as well. Let's take a look at the states that scored lower than the 2017 average but beat the 2018 average, and the states that beat the 2017 average but scored lower than the 2018 average._"
   ]
  },
  {
   "cell_type": "code",
   "execution_count": 63,
   "metadata": {
    "scrolled": true
   },
   "outputs": [
    {
     "data": {
      "text/html": [
       "<div>\n",
       "<style scoped>\n",
       "    .dataframe tbody tr th:only-of-type {\n",
       "        vertical-align: middle;\n",
       "    }\n",
       "\n",
       "    .dataframe tbody tr th {\n",
       "        vertical-align: top;\n",
       "    }\n",
       "\n",
       "    .dataframe thead th {\n",
       "        text-align: right;\n",
       "    }\n",
       "</style>\n",
       "<table border=\"1\" class=\"dataframe\">\n",
       "  <thead>\n",
       "    <tr style=\"text-align: right;\">\n",
       "      <th></th>\n",
       "      <th>state</th>\n",
       "      <th>2017_act_total</th>\n",
       "      <th>2018_act_total</th>\n",
       "      <th>2017_act_part</th>\n",
       "      <th>2018_act_part</th>\n",
       "    </tr>\n",
       "  </thead>\n",
       "  <tbody>\n",
       "    <tr>\n",
       "      <th>5</th>\n",
       "      <td>Colorado</td>\n",
       "      <td>20.8</td>\n",
       "      <td>23.9</td>\n",
       "      <td>100</td>\n",
       "      <td>30</td>\n",
       "    </tr>\n",
       "    <tr>\n",
       "      <th>13</th>\n",
       "      <td>Illinois</td>\n",
       "      <td>21.4</td>\n",
       "      <td>23.9</td>\n",
       "      <td>93</td>\n",
       "      <td>43</td>\n",
       "    </tr>\n",
       "    <tr>\n",
       "      <th>35</th>\n",
       "      <td>Ohio</td>\n",
       "      <td>22.0</td>\n",
       "      <td>20.3</td>\n",
       "      <td>75</td>\n",
       "      <td>100</td>\n",
       "    </tr>\n",
       "    <tr>\n",
       "      <th>37</th>\n",
       "      <td>Oregon</td>\n",
       "      <td>21.8</td>\n",
       "      <td>21.3</td>\n",
       "      <td>40</td>\n",
       "      <td>42</td>\n",
       "    </tr>\n",
       "  </tbody>\n",
       "</table>\n",
       "</div>"
      ],
      "text/plain": [
       "       state  2017_act_total  2018_act_total  2017_act_part  2018_act_part\n",
       "5   Colorado            20.8            23.9            100             30\n",
       "13  Illinois            21.4            23.9             93             43\n",
       "35      Ohio            22.0            20.3             75            100\n",
       "37    Oregon            21.8            21.3             40             42"
      ]
     },
     "execution_count": 63,
     "metadata": {},
     "output_type": "execute_result"
    }
   ],
   "source": [
    "mask = ((final['2017_act_total'] > final['2017_act_total'].mean()) & (final['2018_act_total'] < final['2018_act_total'].mean()) | (final['2017_act_total'] < final['2017_act_total'].mean()) & (final['2018_act_total'] > final['2018_act_total'].mean()))\n",
    "final[mask][['state','2017_act_total','2018_act_total','2017_act_part','2018_act_part']]"
   ]
  },
  {
   "cell_type": "markdown",
   "metadata": {},
   "source": [
    "_We can safely disregard Oregon because the change in score is not very drastic. The other three states are worth noting. Colorado started making the SAT their mandatory test from the beginning of 2018. This meant that a great number of students no longer took the ACT, and Colorado had a drastic decrease in ACT participation in 2018. This meant that only students who payed on their own dime, so to say, took the test. Therefore, there was a drastic increase in Colorado's ACT average in 2018. Likewise, Illinois switched from mandatory ACT testing in 2016 to mandatory SAT testing in 2017. Therefore, there was still a lot of students who took the ACT in 2017 (many teachers encouraged their students to take the ACT, since that was the more familiar test for the teachers to teach!). However, there was a significant drop-off in 2018, meaning only students who paid for the test took it in 2018. Scores increased dramatically.  \n",
    "On the opposite end of the spectrum, [Ohio provided state-funded, mandatory ACT tests in 2018](http://education.ohio.gov/Topics/Testing/State-Funded-ACT-Test), meaning that the every student took the test. This meant that there was a stark decrease in the average ACT score for Ohio in 2018._"
   ]
  },
  {
   "cell_type": "markdown",
   "metadata": {},
   "source": [
    "- 2018 SAT and ACT total scores"
   ]
  },
  {
   "cell_type": "code",
   "execution_count": 70,
   "metadata": {},
   "outputs": [
    {
     "data": {
      "image/png": "[encoded data removed]",
      "text/plain": [
       "<Figure size 576x432 with 1 Axes>"
      ]
     },
     "metadata": {
      "needs_background": "light"
     },
     "output_type": "display_data"
    }
   ],
   "source": [
    "subplot_scatter(final,\n",
    "                '2018_sat_total',\n",
    "                '2018_act_total',\n",
    "                'SAT 2018 vs. ACT 2018 Total Scores', \n",
    "                'SAT 2018', \n",
    "                'ACT 2018')"
   ]
  },
  {
   "cell_type": "markdown",
   "metadata": {},
   "source": [
    "_As with the scatter plots above, I wanted to see if there was a change in the \"Danger Zone\" states from 2017. With some masking, here are the results:_"
   ]
  },
  {
   "cell_type": "code",
   "execution_count": 73,
   "metadata": {
    "scrolled": false
   },
   "outputs": [
    {
     "data": {
      "text/html": [
       "<div>\n",
       "<style scoped>\n",
       "    .dataframe tbody tr th:only-of-type {\n",
       "        vertical-align: middle;\n",
       "    }\n",
       "\n",
       "    .dataframe tbody tr th {\n",
       "        vertical-align: top;\n",
       "    }\n",
       "\n",
       "    .dataframe thead th {\n",
       "        text-align: right;\n",
       "    }\n",
       "</style>\n",
       "<table border=\"1\" class=\"dataframe\">\n",
       "  <thead>\n",
       "    <tr style=\"text-align: right;\">\n",
       "      <th></th>\n",
       "      <th>state</th>\n",
       "      <th>2018_sat_total</th>\n",
       "      <th>2018_act_total</th>\n",
       "      <th>2018_sat_part</th>\n",
       "      <th>2018_act_part</th>\n",
       "    </tr>\n",
       "  </thead>\n",
       "  <tbody>\n",
       "    <tr>\n",
       "      <th>1</th>\n",
       "      <td>Alaska</td>\n",
       "      <td>1106</td>\n",
       "      <td>20.8</td>\n",
       "      <td>43</td>\n",
       "      <td>33</td>\n",
       "    </tr>\n",
       "    <tr>\n",
       "      <th>9</th>\n",
       "      <td>Florida</td>\n",
       "      <td>1099</td>\n",
       "      <td>19.9</td>\n",
       "      <td>56</td>\n",
       "      <td>66</td>\n",
       "    </tr>\n",
       "    <tr>\n",
       "      <th>10</th>\n",
       "      <td>Georgia</td>\n",
       "      <td>1064</td>\n",
       "      <td>21.4</td>\n",
       "      <td>70</td>\n",
       "      <td>53</td>\n",
       "    </tr>\n",
       "    <tr>\n",
       "      <th>11</th>\n",
       "      <td>Hawaii</td>\n",
       "      <td>1010</td>\n",
       "      <td>18.9</td>\n",
       "      <td>56</td>\n",
       "      <td>89</td>\n",
       "    </tr>\n",
       "    <tr>\n",
       "      <th>31</th>\n",
       "      <td>New Mexico</td>\n",
       "      <td>1093</td>\n",
       "      <td>19.4</td>\n",
       "      <td>16</td>\n",
       "      <td>66</td>\n",
       "    </tr>\n",
       "    <tr>\n",
       "      <th>33</th>\n",
       "      <td>North Carolina</td>\n",
       "      <td>1098</td>\n",
       "      <td>19.1</td>\n",
       "      <td>52</td>\n",
       "      <td>100</td>\n",
       "    </tr>\n",
       "    <tr>\n",
       "      <th>35</th>\n",
       "      <td>Ohio</td>\n",
       "      <td>1099</td>\n",
       "      <td>20.3</td>\n",
       "      <td>18</td>\n",
       "      <td>100</td>\n",
       "    </tr>\n",
       "    <tr>\n",
       "      <th>36</th>\n",
       "      <td>Oklahoma</td>\n",
       "      <td>1062</td>\n",
       "      <td>19.3</td>\n",
       "      <td>8</td>\n",
       "      <td>100</td>\n",
       "    </tr>\n",
       "    <tr>\n",
       "      <th>37</th>\n",
       "      <td>Oregon</td>\n",
       "      <td>1117</td>\n",
       "      <td>21.3</td>\n",
       "      <td>48</td>\n",
       "      <td>42</td>\n",
       "    </tr>\n",
       "    <tr>\n",
       "      <th>40</th>\n",
       "      <td>South Carolina</td>\n",
       "      <td>1070</td>\n",
       "      <td>18.3</td>\n",
       "      <td>55</td>\n",
       "      <td>100</td>\n",
       "    </tr>\n",
       "    <tr>\n",
       "      <th>43</th>\n",
       "      <td>Texas</td>\n",
       "      <td>1032</td>\n",
       "      <td>20.6</td>\n",
       "      <td>66</td>\n",
       "      <td>41</td>\n",
       "    </tr>\n",
       "    <tr>\n",
       "      <th>44</th>\n",
       "      <td>Utah</td>\n",
       "      <td>1010</td>\n",
       "      <td>20.4</td>\n",
       "      <td>4</td>\n",
       "      <td>100</td>\n",
       "    </tr>\n",
       "    <tr>\n",
       "      <th>48</th>\n",
       "      <td>West Virginia</td>\n",
       "      <td>999</td>\n",
       "      <td>20.3</td>\n",
       "      <td>28</td>\n",
       "      <td>65</td>\n",
       "    </tr>\n",
       "  </tbody>\n",
       "</table>\n",
       "</div>"
      ],
      "text/plain": [
       "             state  2018_sat_total  2018_act_total  2018_sat_part  \\\n",
       "1           Alaska            1106            20.8             43   \n",
       "9          Florida            1099            19.9             56   \n",
       "10         Georgia            1064            21.4             70   \n",
       "11          Hawaii            1010            18.9             56   \n",
       "31      New Mexico            1093            19.4             16   \n",
       "33  North Carolina            1098            19.1             52   \n",
       "35            Ohio            1099            20.3             18   \n",
       "36        Oklahoma            1062            19.3              8   \n",
       "37          Oregon            1117            21.3             48   \n",
       "40  South Carolina            1070            18.3             55   \n",
       "43           Texas            1032            20.6             66   \n",
       "44            Utah            1010            20.4              4   \n",
       "48   West Virginia             999            20.3             28   \n",
       "\n",
       "    2018_act_part  \n",
       "1              33  \n",
       "9              66  \n",
       "10             53  \n",
       "11             89  \n",
       "31             66  \n",
       "33            100  \n",
       "35            100  \n",
       "36            100  \n",
       "37             42  \n",
       "40            100  \n",
       "43             41  \n",
       "44            100  \n",
       "48             65  "
      ]
     },
     "execution_count": 73,
     "metadata": {},
     "output_type": "execute_result"
    }
   ],
   "source": [
    "mask = (final['2018_sat_total'] < final['2018_sat_total'].mean()) & (final['2018_act_total'] < final['2018_act_total'].mean())\n",
    "final[mask][['state','2018_sat_total','2018_act_total','2018_sat_part','2018_act_part']]"
   ]
  },
  {
   "cell_type": "markdown",
   "metadata": {},
   "source": [
    "_Comparing the list of \"Danger Zone\" states to the ones in 2017, three states have since left the list (**Arizona, Illinois, and Nevada**), while four states have been added to it (**New Mexico, Ohio, Oregon, Utah**). The other states have been on the list for two years in a row. Alaska continues to be on the list._"
   ]
  },
  {
   "cell_type": "markdown",
   "metadata": {},
   "source": [
    "- Participation rates of SAT and ACT in 2018"
   ]
  },
  {
   "cell_type": "code",
   "execution_count": 88,
   "metadata": {},
   "outputs": [
    {
     "data": {
      "image/png": "[encoded data removed]",
      "text/plain": [
       "<Figure size 576x432 with 1 Axes>"
      ]
     },
     "metadata": {
      "needs_background": "light"
     },
     "output_type": "display_data"
    }
   ],
   "source": [
    "subplot_scatter(final,\n",
    "                '2018_sat_part',\n",
    "                '2018_act_part',\n",
    "                'SAT 2018 vs. ACT 2018 Participation Rates', \n",
    "                'SAT 2018', \n",
    "                'ACT 2018')"
   ]
  },
  {
   "cell_type": "markdown",
   "metadata": {},
   "source": [
    "_Wanting to see the relationship between the most recent participation rates for the two tests, I graphed a scatter plot between the two. It makes sense that there is a general negative correlation between the two tests, since taking one usually means a student will not take the other. As the red mean lines divide the graph, there are some interesting data points in the upper right and lower left quadrants. The upper right quadrant signifies states that have higher than average participation for both tests. The lower left quadrant denotes states that have lower than average participation for both tests. Here are those states:_"
   ]
  },
  {
   "cell_type": "code",
   "execution_count": 89,
   "metadata": {},
   "outputs": [
    {
     "data": {
      "text/html": [
       "<div>\n",
       "<style scoped>\n",
       "    .dataframe tbody tr th:only-of-type {\n",
       "        vertical-align: middle;\n",
       "    }\n",
       "\n",
       "    .dataframe tbody tr th {\n",
       "        vertical-align: top;\n",
       "    }\n",
       "\n",
       "    .dataframe thead th {\n",
       "        text-align: right;\n",
       "    }\n",
       "</style>\n",
       "<table border=\"1\" class=\"dataframe\">\n",
       "  <thead>\n",
       "    <tr style=\"text-align: right;\">\n",
       "      <th></th>\n",
       "      <th>state</th>\n",
       "      <th>2018_sat_part</th>\n",
       "      <th>2018_act_part</th>\n",
       "    </tr>\n",
       "  </thead>\n",
       "  <tbody>\n",
       "    <tr>\n",
       "      <th>1</th>\n",
       "      <td>Alaska</td>\n",
       "      <td>43</td>\n",
       "      <td>33</td>\n",
       "    </tr>\n",
       "  </tbody>\n",
       "</table>\n",
       "</div>"
      ],
      "text/plain": [
       "    state  2018_sat_part  2018_act_part\n",
       "1  Alaska             43             33"
      ]
     },
     "execution_count": 89,
     "metadata": {},
     "output_type": "execute_result"
    }
   ],
   "source": [
    "# (final['2018_sat_part'] > final['2018_sat_part'].mean()) & (final['2018_act_part'] > final['2018_act_part'].mean()) | \n",
    "mask = ((final['2018_sat_part'] < final['2018_sat_part'].mean()) & (final['2018_act_part'] < final['2018_act_part'].mean()))\n",
    "final[mask][['state','2018_sat_part','2018_act_part']]"
   ]
  },
  {
   "cell_type": "markdown",
   "metadata": {},
   "source": [
    "_Only Alaska has lower than average participation rates for both the SAT and the ACT.  It makes sense for the ACT organization and the College Board to see it as a \"battleground state\", so to speak._"
   ]
  },
  {
   "cell_type": "markdown",
   "metadata": {},
   "source": [
    "- Median Income and Test Participation"
   ]
  },
  {
   "cell_type": "code",
   "execution_count": 66,
   "metadata": {
    "scrolled": false
   },
   "outputs": [
    {
     "data": {
      "image/png": "[encoded data removed]",
      "text/plain": [
       "<Figure size 576x432 with 1 Axes>"
      ]
     },
     "metadata": {
      "needs_background": "light"
     },
     "output_type": "display_data"
    }
   ],
   "source": [
    "subplot_scatter(final,\n",
    "                '2018_sat_part',\n",
    "                'median_income',\n",
    "                'SAT 2018 Participation Rates vs. Median Incomes', \n",
    "                'SAT 2018', \n",
    "                'Median Income')"
   ]
  },
  {
   "cell_type": "markdown",
   "metadata": {},
   "source": [
    "_There is a slight positive correlation (r = 0.49) between median income and SAT participation.\n",
    "With the data above, it is worthwhile to look at states where median income is higher, but SAT participation is relatively low._"
   ]
  },
  {
   "cell_type": "code",
   "execution_count": 67,
   "metadata": {},
   "outputs": [
    {
     "data": {
      "text/html": [
       "<div>\n",
       "<style scoped>\n",
       "    .dataframe tbody tr th:only-of-type {\n",
       "        vertical-align: middle;\n",
       "    }\n",
       "\n",
       "    .dataframe tbody tr th {\n",
       "        vertical-align: top;\n",
       "    }\n",
       "\n",
       "    .dataframe thead th {\n",
       "        text-align: right;\n",
       "    }\n",
       "</style>\n",
       "<table border=\"1\" class=\"dataframe\">\n",
       "  <thead>\n",
       "    <tr style=\"text-align: right;\">\n",
       "      <th></th>\n",
       "      <th>state</th>\n",
       "      <th>2018_sat_part</th>\n",
       "      <th>2018_act_part</th>\n",
       "      <th>median_income</th>\n",
       "    </tr>\n",
       "  </thead>\n",
       "  <tbody>\n",
       "    <tr>\n",
       "      <th>1</th>\n",
       "      <td>Alaska</td>\n",
       "      <td>43</td>\n",
       "      <td>33</td>\n",
       "      <td>76440</td>\n",
       "    </tr>\n",
       "    <tr>\n",
       "      <th>23</th>\n",
       "      <td>Minnesota</td>\n",
       "      <td>4</td>\n",
       "      <td>99</td>\n",
       "      <td>65599</td>\n",
       "    </tr>\n",
       "    <tr>\n",
       "      <th>34</th>\n",
       "      <td>North Dakota</td>\n",
       "      <td>2</td>\n",
       "      <td>98</td>\n",
       "      <td>60656</td>\n",
       "    </tr>\n",
       "    <tr>\n",
       "      <th>44</th>\n",
       "      <td>Utah</td>\n",
       "      <td>4</td>\n",
       "      <td>100</td>\n",
       "      <td>65977</td>\n",
       "    </tr>\n",
       "    <tr>\n",
       "      <th>50</th>\n",
       "      <td>Wyoming</td>\n",
       "      <td>3</td>\n",
       "      <td>100</td>\n",
       "      <td>59882</td>\n",
       "    </tr>\n",
       "  </tbody>\n",
       "</table>\n",
       "</div>"
      ],
      "text/plain": [
       "           state  2018_sat_part  2018_act_part  median_income\n",
       "1         Alaska             43             33          76440\n",
       "23     Minnesota              4             99          65599\n",
       "34  North Dakota              2             98          60656\n",
       "44          Utah              4            100          65977\n",
       "50       Wyoming              3            100          59882"
      ]
     },
     "execution_count": 67,
     "metadata": {},
     "output_type": "execute_result"
    }
   ],
   "source": [
    "mask = ((final['2018_sat_part'] < final['2018_sat_part'].mean()) & (final['median_income'] > final['median_income'].mean()))\n",
    "final[mask][['state','2018_sat_part','2018_act_part', 'median_income']]"
   ]
  },
  {
   "cell_type": "markdown",
   "metadata": {},
   "source": [
    "_Looking at the above data, it seems the states have a low participation rate on the SAT because they take the ACT as a mandatory test. One state that stands out, however, is Alaska. Though the state has a relatively high median income, it doesn't have mandatory state testing by either test._"
   ]
  },
  {
   "cell_type": "code",
   "execution_count": 68,
   "metadata": {},
   "outputs": [
    {
     "data": {
      "image/png": "[encoded data removed]",
      "text/plain": [
       "<Figure size 576x432 with 1 Axes>"
      ]
     },
     "metadata": {
      "needs_background": "light"
     },
     "output_type": "display_data"
    }
   ],
   "source": [
    "subplot_scatter(final,\n",
    "                '2018_sat_total',\n",
    "                'education_revenue',\n",
    "                'SAT 2018 Total Score vs. Education Revenue by State', \n",
    "                'SAT 2018', \n",
    "                'State Education Revenue')"
   ]
  },
  {
   "cell_type": "code",
   "execution_count": 69,
   "metadata": {
    "scrolled": false
   },
   "outputs": [
    {
     "data": {
      "image/png": "[encoded data removed]",
      "text/plain": [
       "<Figure size 576x432 with 1 Axes>"
      ]
     },
     "metadata": {
      "needs_background": "light"
     },
     "output_type": "display_data"
    }
   ],
   "source": [
    "subplot_scatter(final,\n",
    "                '2018_act_total',\n",
    "                'education_revenue',\n",
    "                'ACT 2018 Total Score vs. Education Revenue by State', \n",
    "                'ACT 2018', \n",
    "                'State Education Revenue')"
   ]
  },
  {
   "cell_type": "markdown",
   "metadata": {},
   "source": [
    "_This was a comparison that I wanted to analyze. It seems that achievement on the SAT is impervious to Education Revenue, meaning that state spending on Education does not have a significant impact on average SAT achievement. On the other hand, avhievement on the ACT is a different story, with more states who spend more on education having a higher average ACT score._"
   ]
  },
  {
   "cell_type": "markdown",
   "metadata": {},
   "source": [
    "### Boxplots to visualize quartile distribution\n",
    "\n",
    "We can also use boxplots to visualize our data. Boxplots demonstrate central tendency and spread in variables. In a certain sense, these are somewhat redundant with histograms, but we might be able to better identify clear outliers or differences in IQR, etc."
   ]
  },
  {
   "cell_type": "code",
   "execution_count": 90,
   "metadata": {
    "scrolled": false
   },
   "outputs": [
    {
     "data": {
      "image/png": "[encoded data removed]",
      "text/plain": [
       "<Figure size 432x288 with 1 Axes>"
      ]
     },
     "metadata": {
      "needs_background": "light"
     },
     "output_type": "display_data"
    }
   ],
   "source": [
    "# Creating a box plot to compare participation rates\n",
    "ax = sns.boxplot(data = final[['2017_sat_part','2018_sat_part','2017_act_part','2018_act_part']])\n",
    "ax.set_title('Distribution of participation rates', fontsize = 20)\n",
    "ax.set_ylabel('Participation rate as a percent')\n",
    "ax.set_xlabel('Test');"
   ]
  },
  {
   "cell_type": "markdown",
   "metadata": {},
   "source": [
    "_The boxplots of participation rates show that, for the most part, participation rates are steady between the two years. The IQR for the SAT has increased slightly._"
   ]
  },
  {
   "cell_type": "code",
   "execution_count": 91,
   "metadata": {},
   "outputs": [
    {
     "data": {
      "image/png": "[encoded data removed]",
      "text/plain": [
       "<Figure size 432x288 with 1 Axes>"
      ]
     },
     "metadata": {
      "needs_background": "light"
     },
     "output_type": "display_data"
    }
   ],
   "source": [
    "# Creating a box plot for 2017 and 2018 SAT subscores and composite scores\n",
    "ax = sns.boxplot(data = final[['2017_sat_read','2018_sat_read','2017_sat_math','2018_sat_math']])\n",
    "ax.set_title('Distribution of SAT subscores', fontsize = 20)\n",
    "ax.set_ylabel('Scores out of 800');"
   ]
  },
  {
   "cell_type": "markdown",
   "metadata": {},
   "source": [
    "_The distribution of SAT subscores have generally stayed the same. This should be true, since the SAT is a standardized test._"
   ]
  },
  {
   "cell_type": "code",
   "execution_count": 92,
   "metadata": {},
   "outputs": [
    {
     "data": {
      "image/png": "[encoded data removed]",
      "text/plain": [
       "<Figure size 432x288 with 1 Axes>"
      ]
     },
     "metadata": {
      "needs_background": "light"
     },
     "output_type": "display_data"
    }
   ],
   "source": [
    "# Creating a box plot for 2017 and 2018 SAT total scores\n",
    "ax = sns.boxplot(data = final[['2017_sat_total','2018_sat_total']])\n",
    "ax.set_title('Distribution of SAT total scores', fontsize = 20)\n",
    "ax.set_ylabel('Scores out of 1600');"
   ]
  },
  {
   "cell_type": "markdown",
   "metadata": {},
   "source": [
    "_The distribution of SAT total scores have generally stayed the same. As stated above, this is the definition of a standardized test._"
   ]
  },
  {
   "cell_type": "code",
   "execution_count": 93,
   "metadata": {},
   "outputs": [
    {
     "data": {
      "image/png": "[encoded data removed]",
      "text/plain": [
       "<Figure size 432x288 with 1 Axes>"
      ]
     },
     "metadata": {
      "needs_background": "light"
     },
     "output_type": "display_data"
    }
   ],
   "source": [
    "# Creating a box plot for 2017 and 2018 ACT composite scores\n",
    "ax = sns.boxplot(data = final[['2017_act_total','2018_act_total']])\n",
    "ax.set_title('Distribution of ACT composite scores', fontsize = 20)\n",
    "ax.set_ylabel('Scores out of 36');"
   ]
  },
  {
   "cell_type": "markdown",
   "metadata": {},
   "source": [
    "_Similar to the observations above, the distribution of ACT composite scores have generally stayed the same year to year._"
   ]
  },
  {
   "cell_type": "markdown",
   "metadata": {},
   "source": [
    "## Descriptive and Inferential Statistics"
   ]
  },
  {
   "cell_type": "markdown",
   "metadata": {},
   "source": [
    "#### Summarizing Distributions\n",
    "\n",
    "In our data analysis, we want to have a complete understanding of data, which is imperative prior to modeling. Here are the different variables broken down in summary of its distribution."
   ]
  },
  {
   "cell_type": "markdown",
   "metadata": {},
   "source": [
    "_The distributions of the variables in the dataset are as follows:_\n",
    "- 2017 SAT Participation has a mean of 39%, with a standard deviation of about 35%. However, the distribution is not normal, as there are three peaks in the data (as seen in the histogram previously). There is a peak between 0-10%, 60-70%, and 90-100%.\n",
    "- 2017 SAT Evidence-Based Reading and Writing has a mean of 569, with a standard deviation of about 46. The distribution is not normal, but is bimodal, with two peaks.\n",
    "- 2017 SAT Math has a mean of 557 and a standard deviation of about 47. While most of the data density is around the mean, there is a dense are of data in the upper portion of the distribution, between 600 and 625.\n",
    "- 2017 SAT Total has a mean of 1126, with a standard deviation of 92. The distribution is bimodal, with one peak between 1050 and 1100, and another peak between 1200-1250.\n",
    "\n",
    "- 2017 ACT Participation has a mean of 65% and a standard deviation of 32%. The distribution has two peaks; one around 30% and another around 100%. This is due to the fact that some states require the ACT test.\n",
    "- 2017 ACT English has a mean of 20.9 points and a standard deviation of about 2.3 points. The distribution is not normal, and has three locations of data density (around 19, 21.5, and 24).\n",
    "- 2017 ACT Math has a mean of 21.2 and a standard deviation of 2.0. The data is skewed right, with multiple peaks (points of data density). \n",
    "- 2017 ACT Science has a mean of 21.0 and a standard deviation of 3.2. The data has three peaks (around 20.9, 22.4, and 24.5).\n",
    "- 2017 ACT Composite has a mean of 21.5, with a standard deviation of 2.0. The distribution has three peaks.\n",
    "\n",
    "- 2018 SAT Participation has a mean of 46% and a standard deviation of 37%. The distribution has three locations of data density (around 5%, 65%, and 100%).\n",
    "- 2018 SAT Evidence-Based Reading and Writing has a mean of 546 and a standard deviation of 48. There are two peaks; one peak is around 540, and the other is around 630. \n",
    "- 2018 SAT Math has a mean of 556 and a standard deviation of 48. There are two areas of data density; one around 535 and another around 630.\n",
    "- 2018 SAT Total has a mean of 1120 and a standard deviation of 94. The distribution is almost trimodal, with peaks in the lower, middle, and upper range of the distribution.\n",
    "\n",
    "- 2018 ACT Participation has a mean of 62% and a standard deviation of 34%. There are three areas of data density (one around 30%, another around 60%, and another around 100%).\n",
    "- 2018 ACT Composite has a mean of 21.5 and a standard deviation of 2.1. The data is bimodal, with one peak occurring around 20.5 and another around 23.5"
   ]
  },
  {
   "cell_type": "markdown",
   "metadata": {},
   "source": [
    "#### Normal Distributions?\n",
    "\n",
    "_In our data, we can see that the distributions are not normal. None of the distributions for Math, Reading, or Participation rates are normal in our data set. This is likely due to the effect of mandatory testing (100% participation), and how that intrinsically impacts the scores. For example, a student who has to take the SAT will likely have a different mindset than a student who must pay with his or her own money to take the test._"
   ]
  },
  {
   "cell_type": "markdown",
   "metadata": {},
   "source": [
    "_Furthermore, we have data that is already an aggregate function (the mean) of individual data points (students in a state that took the SAT or ACT).  Because each data entry is in itself an aggregate value, we would have to know how those individual aggregate values were determined (the number of students in each state, specifically). In other words, it doesn't really make sense to compare Alaska's average SAT to California's average SAT (since Alaska has much fewer students who took the SAT than California). With that being said, it wouldn't make much sense to conduct statistical inference on this specific set of data._"
   ]
  },
  {
   "cell_type": "markdown",
   "metadata": {},
   "source": [
    "_Therefore, it might not be very appropriate to compare ACT and SAT math scores for 2017 (or any year, for that matter). It might be more appropriate if we were to compare data compiled over several years, where the volatile nature of changing participation rates might have less impact on the data._"
   ]
  },
  {
   "cell_type": "markdown",
   "metadata": {},
   "source": [
    "## Outside Research"
   ]
  },
  {
   "cell_type": "markdown",
   "metadata": {},
   "source": [
    "_Alaska is a market that can be capitalized upon since it has low participation rates in both the SAT and ACT, has below average scores on both the SAT and the ACT, and has much to gain from a state-funded college entrance exam._"
   ]
  },
  {
   "cell_type": "code",
   "execution_count": 101,
   "metadata": {
    "scrolled": true
   },
   "outputs": [
    {
     "data": {
      "text/html": [
       "<div>\n",
       "<style scoped>\n",
       "    .dataframe tbody tr th:only-of-type {\n",
       "        vertical-align: middle;\n",
       "    }\n",
       "\n",
       "    .dataframe tbody tr th {\n",
       "        vertical-align: top;\n",
       "    }\n",
       "\n",
       "    .dataframe thead th {\n",
       "        text-align: right;\n",
       "    }\n",
       "</style>\n",
       "<table border=\"1\" class=\"dataframe\">\n",
       "  <thead>\n",
       "    <tr style=\"text-align: right;\">\n",
       "      <th></th>\n",
       "      <th>state</th>\n",
       "      <th>median_income</th>\n",
       "      <th>college_bound</th>\n",
       "      <th>2018_sat_part</th>\n",
       "      <th>2018_act_part</th>\n",
       "      <th>2017_pop_est</th>\n",
       "    </tr>\n",
       "  </thead>\n",
       "  <tbody>\n",
       "    <tr>\n",
       "      <th>12</th>\n",
       "      <td>Idaho</td>\n",
       "      <td>51807</td>\n",
       "      <td>43.7</td>\n",
       "      <td>100</td>\n",
       "      <td>36</td>\n",
       "      <td>1716943</td>\n",
       "    </tr>\n",
       "    <tr>\n",
       "      <th>1</th>\n",
       "      <td>Alaska</td>\n",
       "      <td>76440</td>\n",
       "      <td>44.0</td>\n",
       "      <td>43</td>\n",
       "      <td>33</td>\n",
       "      <td>739795</td>\n",
       "    </tr>\n",
       "    <tr>\n",
       "      <th>44</th>\n",
       "      <td>Utah</td>\n",
       "      <td>65977</td>\n",
       "      <td>45.3</td>\n",
       "      <td>4</td>\n",
       "      <td>100</td>\n",
       "      <td>3101833</td>\n",
       "    </tr>\n",
       "    <tr>\n",
       "      <th>37</th>\n",
       "      <td>Oregon</td>\n",
       "      <td>57532</td>\n",
       "      <td>47.6</td>\n",
       "      <td>48</td>\n",
       "      <td>42</td>\n",
       "      <td>4142776</td>\n",
       "    </tr>\n",
       "    <tr>\n",
       "      <th>47</th>\n",
       "      <td>Washington</td>\n",
       "      <td>67106</td>\n",
       "      <td>50.1</td>\n",
       "      <td>69</td>\n",
       "      <td>24</td>\n",
       "      <td>7405743</td>\n",
       "    </tr>\n",
       "  </tbody>\n",
       "</table>\n",
       "</div>"
      ],
      "text/plain": [
       "         state  median_income  college_bound  2018_sat_part  2018_act_part  \\\n",
       "12       Idaho          51807           43.7            100             36   \n",
       "1       Alaska          76440           44.0             43             33   \n",
       "44        Utah          65977           45.3              4            100   \n",
       "37      Oregon          57532           47.6             48             42   \n",
       "47  Washington          67106           50.1             69             24   \n",
       "\n",
       "    2017_pop_est  \n",
       "12       1716943  \n",
       "1         739795  \n",
       "44       3101833  \n",
       "37       4142776  \n",
       "47       7405743  "
      ]
     },
     "execution_count": 101,
     "metadata": {},
     "output_type": "execute_result"
    }
   ],
   "source": [
    "final[['state','median_income','college_bound','2018_sat_part','2018_act_part', '2017_pop_est']].sort_values(by='college_bound').head()"
   ]
  },
  {
   "cell_type": "markdown",
   "metadata": {},
   "source": [
    "_[Article](https://www.adn.com/opinions/2016/07/06/why-many-alaskan-students-never-come-back-from-college-and-how-to-change-that/) about why many Alaskan high schoolers don't go to college.  \n",
    "[Article](https://www.vox.com/policy-and-politics/2018/2/13/16997188/alaska-basic-income-permanent-fund-oil-revenue-study) on one of the reasons for Alaskans' high median income, the \"Permanent Fund Oil Revenue\"_"
   ]
  },
  {
   "cell_type": "markdown",
   "metadata": {},
   "source": [
    "## Conclusions and Recommendations"
   ]
  },
  {
   "cell_type": "markdown",
   "metadata": {},
   "source": [
    "Making the SAT more widely available (maybe even mandatory) in Alaska would:\n",
    "- Prepare Alaskan students to be a more diverse workforce\n",
    "- Help future-proof Alaska (as oil revenue might not always be there)\n",
    "- Help both public and private universities in Alaska to have a larger student base, improving the higher education options Alaskans have\n",
    "\n",
    "Some additional data to better inform suggestions could be data on what kind of occupations students are most interested in and pursue, what the per pupil educational spending is, and other education-based information."
   ]
  }
 ],
 "metadata": {
  "anaconda-cloud": {},
  "kernelspec": {
   "display_name": "Python 3",
   "language": "python",
   "name": "python3"
  },
  "language_info": {
   "codemirror_mode": {
    "name": "ipython",
    "version": 3
   },
   "file_extension": ".py",
   "mimetype": "text/x-python",
   "name": "python",
   "nbconvert_exporter": "python",
   "pygments_lexer": "ipython3",
   "version": "3.6.8"
  },
  "varInspector": {
   "cols": {
    "lenName": 16,
    "lenType": 16,
    "lenVar": 40
   },
   "kernels_config": {
    "python": {
     "delete_cmd_postfix": "",
     "delete_cmd_prefix": "del ",
     "library": "var_list.py",
     "varRefreshCmd": "print(var_dic_list())"
    },
    "r": {
     "delete_cmd_postfix": ") ",
     "delete_cmd_prefix": "rm(",
     "library": "var_list.r",
     "varRefreshCmd": "cat(var_dic_list()) "
    }
   },
   "types_to_exclude": [
    "module",
    "function",
    "builtin_function_or_method",
    "instance",
    "_Feature"
   ],
   "window_display": false
  }
 },
 "nbformat": 4,
 "nbformat_minor": 2
}
